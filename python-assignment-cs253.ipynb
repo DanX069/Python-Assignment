{
 "cells": [
  {
   "cell_type": "markdown",
   "id": "6a67cee3",
   "metadata": {
    "_cell_guid": "b1076dfc-b9ad-4769-8c92-a6c4dae69d19",
    "_uuid": "8f2839f25d086af736a60e9eeb907d3b93b6e0e5",
    "papermill": {
     "duration": 0.015831,
     "end_time": "2023-04-16T13:49:39.949498",
     "exception": false,
     "start_time": "2023-04-16T13:49:39.933667",
     "status": "completed"
    },
    "tags": []
   },
   "source": [
    "### **Import necessary libraries**"
   ]
  },
  {
   "cell_type": "code",
   "execution_count": 1,
   "id": "e88f8280",
   "metadata": {
    "execution": {
     "iopub.execute_input": "2023-04-16T13:49:39.977559Z",
     "iopub.status.busy": "2023-04-16T13:49:39.976995Z",
     "iopub.status.idle": "2023-04-16T13:49:42.240362Z",
     "shell.execute_reply": "2023-04-16T13:49:42.238754Z"
    },
    "papermill": {
     "duration": 2.282088,
     "end_time": "2023-04-16T13:49:42.244529",
     "exception": false,
     "start_time": "2023-04-16T13:49:39.962441",
     "status": "completed"
    },
    "tags": []
   },
   "outputs": [],
   "source": [
    "import pandas as pd\n",
    "import numpy as np\n",
    "import matplotlib.pyplot as plt\n",
    "import seaborn as sns\n",
    "from sklearn.preprocessing import StandardScaler, LabelEncoder, RobustScaler\n",
    "from sklearn.model_selection import train_test_split\n",
    "from sklearn.cluster import DBSCAN\n",
    "from sklearn.decomposition import PCA\n",
    "from sklearn.neighbors import NearestNeighbors\n",
    "from sklearn.svm import SVC\n",
    "from sklearn.neighbors import KNeighborsClassifier\n",
    "from sklearn.model_selection import GridSearchCV\n",
    "from sklearn.metrics import accuracy_score, precision_score, recall_score, confusion_matrix, ConfusionMatrixDisplay, classification_report\n",
    "from imblearn.over_sampling import SMOTE \n",
    "from imblearn.over_sampling import ADASYN"
   ]
  },
  {
   "cell_type": "markdown",
   "id": "83b18ea5",
   "metadata": {
    "papermill": {
     "duration": 0.012058,
     "end_time": "2023-04-16T13:49:42.268669",
     "exception": false,
     "start_time": "2023-04-16T13:49:42.256611",
     "status": "completed"
    },
    "tags": []
   },
   "source": [
    "### **Import Kaggle Dataset**"
   ]
  },
  {
   "cell_type": "code",
   "execution_count": 2,
   "id": "cb96e1c8",
   "metadata": {
    "execution": {
     "iopub.execute_input": "2023-04-16T13:49:42.297895Z",
     "iopub.status.busy": "2023-04-16T13:49:42.296550Z",
     "iopub.status.idle": "2023-04-16T13:49:42.369375Z",
     "shell.execute_reply": "2023-04-16T13:49:42.368032Z"
    },
    "papermill": {
     "duration": 0.090381,
     "end_time": "2023-04-16T13:49:42.372345",
     "exception": false,
     "start_time": "2023-04-16T13:49:42.281964",
     "status": "completed"
    },
    "tags": []
   },
   "outputs": [
    {
     "data": {
      "text/html": [
       "<div>\n",
       "<style scoped>\n",
       "    .dataframe tbody tr th:only-of-type {\n",
       "        vertical-align: middle;\n",
       "    }\n",
       "\n",
       "    .dataframe tbody tr th {\n",
       "        vertical-align: top;\n",
       "    }\n",
       "\n",
       "    .dataframe thead th {\n",
       "        text-align: right;\n",
       "    }\n",
       "</style>\n",
       "<table border=\"1\" class=\"dataframe\">\n",
       "  <thead>\n",
       "    <tr style=\"text-align: right;\">\n",
       "      <th></th>\n",
       "      <th>Age</th>\n",
       "      <th>Number of sexual partners</th>\n",
       "      <th>First sexual intercourse</th>\n",
       "      <th>Num of pregnancies</th>\n",
       "      <th>Smokes</th>\n",
       "      <th>Smokes (years)</th>\n",
       "      <th>Smokes (packs/year)</th>\n",
       "      <th>Hormonal Contraceptives</th>\n",
       "      <th>Hormonal Contraceptives (years)</th>\n",
       "      <th>IUD</th>\n",
       "      <th>...</th>\n",
       "      <th>STDs: Time since first diagnosis</th>\n",
       "      <th>STDs: Time since last diagnosis</th>\n",
       "      <th>Dx:Cancer</th>\n",
       "      <th>Dx:CIN</th>\n",
       "      <th>Dx:HPV</th>\n",
       "      <th>Dx</th>\n",
       "      <th>Hinselmann</th>\n",
       "      <th>Schiller</th>\n",
       "      <th>Citology</th>\n",
       "      <th>Biopsy</th>\n",
       "    </tr>\n",
       "  </thead>\n",
       "  <tbody>\n",
       "    <tr>\n",
       "      <th>0</th>\n",
       "      <td>18</td>\n",
       "      <td>4.0</td>\n",
       "      <td>15.0</td>\n",
       "      <td>1.0</td>\n",
       "      <td>0.0</td>\n",
       "      <td>0.0</td>\n",
       "      <td>0.0</td>\n",
       "      <td>0.0</td>\n",
       "      <td>0.0</td>\n",
       "      <td>0.0</td>\n",
       "      <td>...</td>\n",
       "      <td>?</td>\n",
       "      <td>?</td>\n",
       "      <td>0</td>\n",
       "      <td>0</td>\n",
       "      <td>0</td>\n",
       "      <td>0</td>\n",
       "      <td>0</td>\n",
       "      <td>0</td>\n",
       "      <td>0</td>\n",
       "      <td>0</td>\n",
       "    </tr>\n",
       "    <tr>\n",
       "      <th>1</th>\n",
       "      <td>15</td>\n",
       "      <td>1.0</td>\n",
       "      <td>14.0</td>\n",
       "      <td>1.0</td>\n",
       "      <td>0.0</td>\n",
       "      <td>0.0</td>\n",
       "      <td>0.0</td>\n",
       "      <td>0.0</td>\n",
       "      <td>0.0</td>\n",
       "      <td>0.0</td>\n",
       "      <td>...</td>\n",
       "      <td>?</td>\n",
       "      <td>?</td>\n",
       "      <td>0</td>\n",
       "      <td>0</td>\n",
       "      <td>0</td>\n",
       "      <td>0</td>\n",
       "      <td>0</td>\n",
       "      <td>0</td>\n",
       "      <td>0</td>\n",
       "      <td>0</td>\n",
       "    </tr>\n",
       "    <tr>\n",
       "      <th>2</th>\n",
       "      <td>34</td>\n",
       "      <td>1.0</td>\n",
       "      <td>?</td>\n",
       "      <td>1.0</td>\n",
       "      <td>0.0</td>\n",
       "      <td>0.0</td>\n",
       "      <td>0.0</td>\n",
       "      <td>0.0</td>\n",
       "      <td>0.0</td>\n",
       "      <td>0.0</td>\n",
       "      <td>...</td>\n",
       "      <td>?</td>\n",
       "      <td>?</td>\n",
       "      <td>0</td>\n",
       "      <td>0</td>\n",
       "      <td>0</td>\n",
       "      <td>0</td>\n",
       "      <td>0</td>\n",
       "      <td>0</td>\n",
       "      <td>0</td>\n",
       "      <td>0</td>\n",
       "    </tr>\n",
       "    <tr>\n",
       "      <th>3</th>\n",
       "      <td>52</td>\n",
       "      <td>5.0</td>\n",
       "      <td>16.0</td>\n",
       "      <td>4.0</td>\n",
       "      <td>1.0</td>\n",
       "      <td>37.0</td>\n",
       "      <td>37.0</td>\n",
       "      <td>1.0</td>\n",
       "      <td>3.0</td>\n",
       "      <td>0.0</td>\n",
       "      <td>...</td>\n",
       "      <td>?</td>\n",
       "      <td>?</td>\n",
       "      <td>1</td>\n",
       "      <td>0</td>\n",
       "      <td>1</td>\n",
       "      <td>0</td>\n",
       "      <td>0</td>\n",
       "      <td>0</td>\n",
       "      <td>0</td>\n",
       "      <td>0</td>\n",
       "    </tr>\n",
       "    <tr>\n",
       "      <th>4</th>\n",
       "      <td>46</td>\n",
       "      <td>3.0</td>\n",
       "      <td>21.0</td>\n",
       "      <td>4.0</td>\n",
       "      <td>0.0</td>\n",
       "      <td>0.0</td>\n",
       "      <td>0.0</td>\n",
       "      <td>1.0</td>\n",
       "      <td>15.0</td>\n",
       "      <td>0.0</td>\n",
       "      <td>...</td>\n",
       "      <td>?</td>\n",
       "      <td>?</td>\n",
       "      <td>0</td>\n",
       "      <td>0</td>\n",
       "      <td>0</td>\n",
       "      <td>0</td>\n",
       "      <td>0</td>\n",
       "      <td>0</td>\n",
       "      <td>0</td>\n",
       "      <td>0</td>\n",
       "    </tr>\n",
       "    <tr>\n",
       "      <th>5</th>\n",
       "      <td>42</td>\n",
       "      <td>3.0</td>\n",
       "      <td>23.0</td>\n",
       "      <td>2.0</td>\n",
       "      <td>0.0</td>\n",
       "      <td>0.0</td>\n",
       "      <td>0.0</td>\n",
       "      <td>0.0</td>\n",
       "      <td>0.0</td>\n",
       "      <td>0.0</td>\n",
       "      <td>...</td>\n",
       "      <td>?</td>\n",
       "      <td>?</td>\n",
       "      <td>0</td>\n",
       "      <td>0</td>\n",
       "      <td>0</td>\n",
       "      <td>0</td>\n",
       "      <td>0</td>\n",
       "      <td>0</td>\n",
       "      <td>0</td>\n",
       "      <td>0</td>\n",
       "    </tr>\n",
       "    <tr>\n",
       "      <th>6</th>\n",
       "      <td>51</td>\n",
       "      <td>3.0</td>\n",
       "      <td>17.0</td>\n",
       "      <td>6.0</td>\n",
       "      <td>1.0</td>\n",
       "      <td>34.0</td>\n",
       "      <td>3.4</td>\n",
       "      <td>0.0</td>\n",
       "      <td>0.0</td>\n",
       "      <td>1.0</td>\n",
       "      <td>...</td>\n",
       "      <td>?</td>\n",
       "      <td>?</td>\n",
       "      <td>0</td>\n",
       "      <td>0</td>\n",
       "      <td>0</td>\n",
       "      <td>0</td>\n",
       "      <td>1</td>\n",
       "      <td>1</td>\n",
       "      <td>0</td>\n",
       "      <td>1</td>\n",
       "    </tr>\n",
       "    <tr>\n",
       "      <th>7</th>\n",
       "      <td>26</td>\n",
       "      <td>1.0</td>\n",
       "      <td>26.0</td>\n",
       "      <td>3.0</td>\n",
       "      <td>0.0</td>\n",
       "      <td>0.0</td>\n",
       "      <td>0.0</td>\n",
       "      <td>1.0</td>\n",
       "      <td>2.0</td>\n",
       "      <td>1.0</td>\n",
       "      <td>...</td>\n",
       "      <td>?</td>\n",
       "      <td>?</td>\n",
       "      <td>0</td>\n",
       "      <td>0</td>\n",
       "      <td>0</td>\n",
       "      <td>0</td>\n",
       "      <td>0</td>\n",
       "      <td>0</td>\n",
       "      <td>0</td>\n",
       "      <td>0</td>\n",
       "    </tr>\n",
       "    <tr>\n",
       "      <th>8</th>\n",
       "      <td>45</td>\n",
       "      <td>1.0</td>\n",
       "      <td>20.0</td>\n",
       "      <td>5.0</td>\n",
       "      <td>0.0</td>\n",
       "      <td>0.0</td>\n",
       "      <td>0.0</td>\n",
       "      <td>0.0</td>\n",
       "      <td>0.0</td>\n",
       "      <td>0.0</td>\n",
       "      <td>...</td>\n",
       "      <td>?</td>\n",
       "      <td>?</td>\n",
       "      <td>1</td>\n",
       "      <td>0</td>\n",
       "      <td>1</td>\n",
       "      <td>1</td>\n",
       "      <td>0</td>\n",
       "      <td>0</td>\n",
       "      <td>0</td>\n",
       "      <td>0</td>\n",
       "    </tr>\n",
       "    <tr>\n",
       "      <th>9</th>\n",
       "      <td>44</td>\n",
       "      <td>3.0</td>\n",
       "      <td>15.0</td>\n",
       "      <td>?</td>\n",
       "      <td>1.0</td>\n",
       "      <td>1.266972909</td>\n",
       "      <td>2.8</td>\n",
       "      <td>0.0</td>\n",
       "      <td>0.0</td>\n",
       "      <td>?</td>\n",
       "      <td>...</td>\n",
       "      <td>?</td>\n",
       "      <td>?</td>\n",
       "      <td>0</td>\n",
       "      <td>0</td>\n",
       "      <td>0</td>\n",
       "      <td>0</td>\n",
       "      <td>0</td>\n",
       "      <td>0</td>\n",
       "      <td>0</td>\n",
       "      <td>0</td>\n",
       "    </tr>\n",
       "  </tbody>\n",
       "</table>\n",
       "<p>10 rows × 36 columns</p>\n",
       "</div>"
      ],
      "text/plain": [
       "   Age Number of sexual partners First sexual intercourse Num of pregnancies  \\\n",
       "0   18                       4.0                     15.0                1.0   \n",
       "1   15                       1.0                     14.0                1.0   \n",
       "2   34                       1.0                        ?                1.0   \n",
       "3   52                       5.0                     16.0                4.0   \n",
       "4   46                       3.0                     21.0                4.0   \n",
       "5   42                       3.0                     23.0                2.0   \n",
       "6   51                       3.0                     17.0                6.0   \n",
       "7   26                       1.0                     26.0                3.0   \n",
       "8   45                       1.0                     20.0                5.0   \n",
       "9   44                       3.0                     15.0                  ?   \n",
       "\n",
       "  Smokes Smokes (years) Smokes (packs/year) Hormonal Contraceptives  \\\n",
       "0    0.0            0.0                 0.0                     0.0   \n",
       "1    0.0            0.0                 0.0                     0.0   \n",
       "2    0.0            0.0                 0.0                     0.0   \n",
       "3    1.0           37.0                37.0                     1.0   \n",
       "4    0.0            0.0                 0.0                     1.0   \n",
       "5    0.0            0.0                 0.0                     0.0   \n",
       "6    1.0           34.0                 3.4                     0.0   \n",
       "7    0.0            0.0                 0.0                     1.0   \n",
       "8    0.0            0.0                 0.0                     0.0   \n",
       "9    1.0    1.266972909                 2.8                     0.0   \n",
       "\n",
       "  Hormonal Contraceptives (years)  IUD  ... STDs: Time since first diagnosis  \\\n",
       "0                             0.0  0.0  ...                                ?   \n",
       "1                             0.0  0.0  ...                                ?   \n",
       "2                             0.0  0.0  ...                                ?   \n",
       "3                             3.0  0.0  ...                                ?   \n",
       "4                            15.0  0.0  ...                                ?   \n",
       "5                             0.0  0.0  ...                                ?   \n",
       "6                             0.0  1.0  ...                                ?   \n",
       "7                             2.0  1.0  ...                                ?   \n",
       "8                             0.0  0.0  ...                                ?   \n",
       "9                             0.0    ?  ...                                ?   \n",
       "\n",
       "  STDs: Time since last diagnosis Dx:Cancer Dx:CIN Dx:HPV Dx Hinselmann  \\\n",
       "0                               ?         0      0      0  0          0   \n",
       "1                               ?         0      0      0  0          0   \n",
       "2                               ?         0      0      0  0          0   \n",
       "3                               ?         1      0      1  0          0   \n",
       "4                               ?         0      0      0  0          0   \n",
       "5                               ?         0      0      0  0          0   \n",
       "6                               ?         0      0      0  0          1   \n",
       "7                               ?         0      0      0  0          0   \n",
       "8                               ?         1      0      1  1          0   \n",
       "9                               ?         0      0      0  0          0   \n",
       "\n",
       "  Schiller Citology Biopsy  \n",
       "0        0        0      0  \n",
       "1        0        0      0  \n",
       "2        0        0      0  \n",
       "3        0        0      0  \n",
       "4        0        0      0  \n",
       "5        0        0      0  \n",
       "6        1        0      1  \n",
       "7        0        0      0  \n",
       "8        0        0      0  \n",
       "9        0        0      0  \n",
       "\n",
       "[10 rows x 36 columns]"
      ]
     },
     "execution_count": 2,
     "metadata": {},
     "output_type": "execute_result"
    }
   ],
   "source": [
    "df = pd.read_csv(\"../input/cervical-cancer-risk-classification/kag_risk_factors_cervical_cancer.csv\")\n",
    "df.head(10) #print first 10 entries of the dataset"
   ]
  },
  {
   "cell_type": "markdown",
   "id": "625a1e4e",
   "metadata": {
    "papermill": {
     "duration": 0.012499,
     "end_time": "2023-04-16T13:49:42.398075",
     "exception": false,
     "start_time": "2023-04-16T13:49:42.385576",
     "status": "completed"
    },
    "tags": []
   },
   "source": [
    "### **Inspect the dataset**"
   ]
  },
  {
   "cell_type": "code",
   "execution_count": 3,
   "id": "d15e98f8",
   "metadata": {
    "execution": {
     "iopub.execute_input": "2023-04-16T13:49:42.429584Z",
     "iopub.status.busy": "2023-04-16T13:49:42.428828Z",
     "iopub.status.idle": "2023-04-16T13:49:42.436404Z",
     "shell.execute_reply": "2023-04-16T13:49:42.434344Z"
    },
    "papermill": {
     "duration": 0.028931,
     "end_time": "2023-04-16T13:49:42.440483",
     "exception": false,
     "start_time": "2023-04-16T13:49:42.411552",
     "status": "completed"
    },
    "scrolled": true,
    "tags": []
   },
   "outputs": [
    {
     "name": "stdout",
     "output_type": "stream",
     "text": [
      "(858, 36)\n"
     ]
    }
   ],
   "source": [
    "print(df.shape)"
   ]
  },
  {
   "cell_type": "code",
   "execution_count": 4,
   "id": "dad868ab",
   "metadata": {
    "execution": {
     "iopub.execute_input": "2023-04-16T13:49:42.467883Z",
     "iopub.status.busy": "2023-04-16T13:49:42.467362Z",
     "iopub.status.idle": "2023-04-16T13:49:42.475267Z",
     "shell.execute_reply": "2023-04-16T13:49:42.473532Z"
    },
    "papermill": {
     "duration": 0.025756,
     "end_time": "2023-04-16T13:49:42.479083",
     "exception": false,
     "start_time": "2023-04-16T13:49:42.453327",
     "status": "completed"
    },
    "tags": []
   },
   "outputs": [
    {
     "name": "stdout",
     "output_type": "stream",
     "text": [
      "Age                                    int64\n",
      "Number of sexual partners             object\n",
      "First sexual intercourse              object\n",
      "Num of pregnancies                    object\n",
      "Smokes                                object\n",
      "Smokes (years)                        object\n",
      "Smokes (packs/year)                   object\n",
      "Hormonal Contraceptives               object\n",
      "Hormonal Contraceptives (years)       object\n",
      "IUD                                   object\n",
      "IUD (years)                           object\n",
      "STDs                                  object\n",
      "STDs (number)                         object\n",
      "STDs:condylomatosis                   object\n",
      "STDs:cervical condylomatosis          object\n",
      "STDs:vaginal condylomatosis           object\n",
      "STDs:vulvo-perineal condylomatosis    object\n",
      "STDs:syphilis                         object\n",
      "STDs:pelvic inflammatory disease      object\n",
      "STDs:genital herpes                   object\n",
      "STDs:molluscum contagiosum            object\n",
      "STDs:AIDS                             object\n",
      "STDs:HIV                              object\n",
      "STDs:Hepatitis B                      object\n",
      "STDs:HPV                              object\n",
      "STDs: Number of diagnosis              int64\n",
      "STDs: Time since first diagnosis      object\n",
      "STDs: Time since last diagnosis       object\n",
      "Dx:Cancer                              int64\n",
      "Dx:CIN                                 int64\n",
      "Dx:HPV                                 int64\n",
      "Dx                                     int64\n",
      "Hinselmann                             int64\n",
      "Schiller                               int64\n",
      "Citology                               int64\n",
      "Biopsy                                 int64\n",
      "dtype: object\n"
     ]
    }
   ],
   "source": [
    "print(df.dtypes)"
   ]
  },
  {
   "cell_type": "code",
   "execution_count": 5,
   "id": "72c0613e",
   "metadata": {
    "execution": {
     "iopub.execute_input": "2023-04-16T13:49:42.511540Z",
     "iopub.status.busy": "2023-04-16T13:49:42.511102Z",
     "iopub.status.idle": "2023-04-16T13:49:42.561477Z",
     "shell.execute_reply": "2023-04-16T13:49:42.559259Z"
    },
    "papermill": {
     "duration": 0.069703,
     "end_time": "2023-04-16T13:49:42.564646",
     "exception": false,
     "start_time": "2023-04-16T13:49:42.494943",
     "status": "completed"
    },
    "tags": []
   },
   "outputs": [
    {
     "name": "stdout",
     "output_type": "stream",
     "text": [
      "              Age  STDs: Number of diagnosis   Dx:Cancer      Dx:CIN  \\\n",
      "count  858.000000                 858.000000  858.000000  858.000000   \n",
      "mean    26.820513                   0.087413    0.020979    0.010490   \n",
      "std      8.497948                   0.302545    0.143398    0.101939   \n",
      "min     13.000000                   0.000000    0.000000    0.000000   \n",
      "25%     20.000000                   0.000000    0.000000    0.000000   \n",
      "50%     25.000000                   0.000000    0.000000    0.000000   \n",
      "75%     32.000000                   0.000000    0.000000    0.000000   \n",
      "max     84.000000                   3.000000    1.000000    1.000000   \n",
      "\n",
      "           Dx:HPV          Dx  Hinselmann    Schiller    Citology      Biopsy  \n",
      "count  858.000000  858.000000  858.000000  858.000000  858.000000  858.000000  \n",
      "mean     0.020979    0.027972    0.040793    0.086247    0.051282    0.064103  \n",
      "std      0.143398    0.164989    0.197925    0.280892    0.220701    0.245078  \n",
      "min      0.000000    0.000000    0.000000    0.000000    0.000000    0.000000  \n",
      "25%      0.000000    0.000000    0.000000    0.000000    0.000000    0.000000  \n",
      "50%      0.000000    0.000000    0.000000    0.000000    0.000000    0.000000  \n",
      "75%      0.000000    0.000000    0.000000    0.000000    0.000000    0.000000  \n",
      "max      1.000000    1.000000    1.000000    1.000000    1.000000    1.000000  \n"
     ]
    }
   ],
   "source": [
    "print(df.describe())"
   ]
  },
  {
   "cell_type": "code",
   "execution_count": 6,
   "id": "9d366397",
   "metadata": {
    "execution": {
     "iopub.execute_input": "2023-04-16T13:49:42.594901Z",
     "iopub.status.busy": "2023-04-16T13:49:42.594455Z",
     "iopub.status.idle": "2023-04-16T13:49:42.614834Z",
     "shell.execute_reply": "2023-04-16T13:49:42.613094Z"
    },
    "papermill": {
     "duration": 0.040712,
     "end_time": "2023-04-16T13:49:42.618811",
     "exception": false,
     "start_time": "2023-04-16T13:49:42.578099",
     "status": "completed"
    },
    "tags": []
   },
   "outputs": [
    {
     "name": "stdout",
     "output_type": "stream",
     "text": [
      "Age                                     0\n",
      "Number of sexual partners              26\n",
      "First sexual intercourse                7\n",
      "Num of pregnancies                     56\n",
      "Smokes                                 13\n",
      "Smokes (years)                         13\n",
      "Smokes (packs/year)                    13\n",
      "Hormonal Contraceptives               108\n",
      "Hormonal Contraceptives (years)       108\n",
      "IUD                                   117\n",
      "IUD (years)                           117\n",
      "STDs                                  105\n",
      "STDs (number)                         105\n",
      "STDs:condylomatosis                   105\n",
      "STDs:cervical condylomatosis          105\n",
      "STDs:vaginal condylomatosis           105\n",
      "STDs:vulvo-perineal condylomatosis    105\n",
      "STDs:syphilis                         105\n",
      "STDs:pelvic inflammatory disease      105\n",
      "STDs:genital herpes                   105\n",
      "STDs:molluscum contagiosum            105\n",
      "STDs:AIDS                             105\n",
      "STDs:HIV                              105\n",
      "STDs:Hepatitis B                      105\n",
      "STDs:HPV                              105\n",
      "STDs: Number of diagnosis               0\n",
      "STDs: Time since first diagnosis      787\n",
      "STDs: Time since last diagnosis       787\n",
      "Dx:Cancer                               0\n",
      "Dx:CIN                                  0\n",
      "Dx:HPV                                  0\n",
      "Dx                                      0\n",
      "Hinselmann                              0\n",
      "Schiller                                0\n",
      "Citology                                0\n",
      "Biopsy                                  0\n",
      "dtype: int64\n"
     ]
    }
   ],
   "source": [
    "df = df.replace('?', np.NaN) #replacing missing values with Numpy NaN\n",
    "print(df.isnull().sum())"
   ]
  },
  {
   "cell_type": "markdown",
   "id": "bfddf3ed",
   "metadata": {
    "papermill": {
     "duration": 0.015235,
     "end_time": "2023-04-16T13:49:42.650576",
     "exception": false,
     "start_time": "2023-04-16T13:49:42.635341",
     "status": "completed"
    },
    "tags": []
   },
   "source": [
    "### **Identifying the percentage of missing values in each risk factor**"
   ]
  },
  {
   "cell_type": "code",
   "execution_count": 7,
   "id": "2773fa67",
   "metadata": {
    "execution": {
     "iopub.execute_input": "2023-04-16T13:49:42.681275Z",
     "iopub.status.busy": "2023-04-16T13:49:42.680757Z",
     "iopub.status.idle": "2023-04-16T13:49:43.333758Z",
     "shell.execute_reply": "2023-04-16T13:49:43.332253Z"
    },
    "papermill": {
     "duration": 0.673158,
     "end_time": "2023-04-16T13:49:43.337520",
     "exception": false,
     "start_time": "2023-04-16T13:49:42.664362",
     "status": "completed"
    },
    "tags": []
   },
   "outputs": [
    {
     "data": {
      "text/plain": [
       "<AxesSubplot:>"
      ]
     },
     "execution_count": 7,
     "metadata": {},
     "output_type": "execute_result"
    },
    {
     "data": {
      "image/png": "[encoded data removed]",
      "text/plain": [
       "<Figure size 1200x1000 with 1 Axes>"
      ]
     },
     "metadata": {},
     "output_type": "display_data"
    }
   ],
   "source": [
    "plt.figure(figsize=(12,10))\n",
    "np.round(df.isnull().sum()/df.shape[0]*100).sort_values().plot(kind='barh')"
   ]
  },
  {
   "cell_type": "markdown",
   "id": "53505c1d",
   "metadata": {
    "papermill": {
     "duration": 0.014287,
     "end_time": "2023-04-16T13:49:43.366969",
     "exception": false,
     "start_time": "2023-04-16T13:49:43.352682",
     "status": "completed"
    },
    "tags": []
   },
   "source": [
    "#### **Now, columns STDs: Time since last diagnosis and STDs: Time since first diagnoses have a lot of missing values so we drop them as they won't be helpful in training the model.**"
   ]
  },
  {
   "cell_type": "code",
   "execution_count": 8,
   "id": "87c52b97",
   "metadata": {
    "execution": {
     "iopub.execute_input": "2023-04-16T13:49:43.398283Z",
     "iopub.status.busy": "2023-04-16T13:49:43.397813Z",
     "iopub.status.idle": "2023-04-16T13:49:43.408261Z",
     "shell.execute_reply": "2023-04-16T13:49:43.407001Z"
    },
    "papermill": {
     "duration": 0.029016,
     "end_time": "2023-04-16T13:49:43.410723",
     "exception": false,
     "start_time": "2023-04-16T13:49:43.381707",
     "status": "completed"
    },
    "tags": []
   },
   "outputs": [
    {
     "name": "stdout",
     "output_type": "stream",
     "text": [
      "(858, 34)\n"
     ]
    }
   ],
   "source": [
    "new_df = df.drop(['STDs: Time since first diagnosis','STDs: Time since last diagnosis'],axis=1) \n",
    "print(new_df.shape)"
   ]
  },
  {
   "cell_type": "markdown",
   "id": "0562f5e3",
   "metadata": {
    "papermill": {
     "duration": 0.0149,
     "end_time": "2023-04-16T13:49:43.440275",
     "exception": false,
     "start_time": "2023-04-16T13:49:43.425375",
     "status": "completed"
    },
    "tags": []
   },
   "source": [
    "#### **Assigning numerical and categorical columns manually**"
   ]
  },
  {
   "cell_type": "code",
   "execution_count": 9,
   "id": "bdb48850",
   "metadata": {
    "execution": {
     "iopub.execute_input": "2023-04-16T13:49:43.472466Z",
     "iopub.status.busy": "2023-04-16T13:49:43.471943Z",
     "iopub.status.idle": "2023-04-16T13:49:43.479209Z",
     "shell.execute_reply": "2023-04-16T13:49:43.477851Z"
    },
    "papermill": {
     "duration": 0.026815,
     "end_time": "2023-04-16T13:49:43.482571",
     "exception": false,
     "start_time": "2023-04-16T13:49:43.455756",
     "status": "completed"
    },
    "tags": []
   },
   "outputs": [],
   "source": [
    "numerical_df = ['Age', 'Number of sexual partners', 'First sexual intercourse','Num of pregnancies', 'Smokes (years)',\n",
    "                'Smokes (packs/year)','Hormonal Contraceptives (years)','IUD (years)','STDs (number)']\n",
    "categorical_df = ['Smokes','Hormonal Contraceptives','IUD','STDs','STDs:condylomatosis','STDs:cervical condylomatosis',\n",
    "                  'STDs:vaginal condylomatosis','STDs:vulvo-perineal condylomatosis', 'STDs:syphilis',\n",
    "                  'STDs:pelvic inflammatory disease', 'STDs:genital herpes','STDs:molluscum contagiosum', 'STDs:AIDS', \n",
    "                  'STDs:HIV','STDs:Hepatitis B', 'STDs:HPV', 'STDs: Number of diagnosis','Dx:Cancer', 'Dx:CIN', \n",
    "                  'Dx:HPV', 'Dx','Hinselmann','Schiller','Citology','Biopsy']"
   ]
  },
  {
   "cell_type": "markdown",
   "id": "4425a236",
   "metadata": {
    "papermill": {
     "duration": 0.014266,
     "end_time": "2023-04-16T13:49:43.512867",
     "exception": false,
     "start_time": "2023-04-16T13:49:43.498601",
     "status": "completed"
    },
    "tags": []
   },
   "source": [
    "## **Data Preprocessing: Dealing with missing values**"
   ]
  },
  {
   "cell_type": "markdown",
   "id": "4123eac3",
   "metadata": {
    "papermill": {
     "duration": 0.014471,
     "end_time": "2023-04-16T13:49:43.541812",
     "exception": false,
     "start_time": "2023-04-16T13:49:43.527341",
     "status": "completed"
    },
    "tags": []
   },
   "source": [
    "### **Imputing the numerical columns with median**"
   ]
  },
  {
   "cell_type": "code",
   "execution_count": 10,
   "id": "06bf8a93",
   "metadata": {
    "execution": {
     "iopub.execute_input": "2023-04-16T13:49:43.574549Z",
     "iopub.status.busy": "2023-04-16T13:49:43.574119Z",
     "iopub.status.idle": "2023-04-16T13:49:43.636865Z",
     "shell.execute_reply": "2023-04-16T13:49:43.635556Z"
    },
    "papermill": {
     "duration": 0.083008,
     "end_time": "2023-04-16T13:49:43.639433",
     "exception": false,
     "start_time": "2023-04-16T13:49:43.556425",
     "status": "completed"
    },
    "tags": []
   },
   "outputs": [
    {
     "name": "stdout",
     "output_type": "stream",
     "text": [
      "Age  25.0\n",
      "Number of sexual partners  2.0\n",
      "First sexual intercourse  17.0\n",
      "Num of pregnancies  2.0\n",
      "Smokes (years)  0.0\n",
      "Smokes (packs/year)  0.0\n",
      "Hormonal Contraceptives (years)  0.5\n",
      "IUD (years)  0.0\n",
      "STDs (number)  0.0\n"
     ]
    },
    {
     "data": {
      "text/html": [
       "<div>\n",
       "<style scoped>\n",
       "    .dataframe tbody tr th:only-of-type {\n",
       "        vertical-align: middle;\n",
       "    }\n",
       "\n",
       "    .dataframe tbody tr th {\n",
       "        vertical-align: top;\n",
       "    }\n",
       "\n",
       "    .dataframe thead th {\n",
       "        text-align: right;\n",
       "    }\n",
       "</style>\n",
       "<table border=\"1\" class=\"dataframe\">\n",
       "  <thead>\n",
       "    <tr style=\"text-align: right;\">\n",
       "      <th></th>\n",
       "      <th>Age</th>\n",
       "      <th>Number of sexual partners</th>\n",
       "      <th>First sexual intercourse</th>\n",
       "      <th>Num of pregnancies</th>\n",
       "      <th>Smokes</th>\n",
       "      <th>Smokes (years)</th>\n",
       "      <th>Smokes (packs/year)</th>\n",
       "      <th>Hormonal Contraceptives</th>\n",
       "      <th>Hormonal Contraceptives (years)</th>\n",
       "      <th>IUD</th>\n",
       "      <th>...</th>\n",
       "      <th>STDs:HPV</th>\n",
       "      <th>STDs: Number of diagnosis</th>\n",
       "      <th>Dx:Cancer</th>\n",
       "      <th>Dx:CIN</th>\n",
       "      <th>Dx:HPV</th>\n",
       "      <th>Dx</th>\n",
       "      <th>Hinselmann</th>\n",
       "      <th>Schiller</th>\n",
       "      <th>Citology</th>\n",
       "      <th>Biopsy</th>\n",
       "    </tr>\n",
       "  </thead>\n",
       "  <tbody>\n",
       "    <tr>\n",
       "      <th>0</th>\n",
       "      <td>18</td>\n",
       "      <td>4.0</td>\n",
       "      <td>15.0</td>\n",
       "      <td>1.0</td>\n",
       "      <td>0.0</td>\n",
       "      <td>0.000000</td>\n",
       "      <td>0.0</td>\n",
       "      <td>0.0</td>\n",
       "      <td>0.00</td>\n",
       "      <td>0.0</td>\n",
       "      <td>...</td>\n",
       "      <td>0.0</td>\n",
       "      <td>0</td>\n",
       "      <td>0</td>\n",
       "      <td>0</td>\n",
       "      <td>0</td>\n",
       "      <td>0</td>\n",
       "      <td>0</td>\n",
       "      <td>0</td>\n",
       "      <td>0</td>\n",
       "      <td>0</td>\n",
       "    </tr>\n",
       "    <tr>\n",
       "      <th>1</th>\n",
       "      <td>15</td>\n",
       "      <td>1.0</td>\n",
       "      <td>14.0</td>\n",
       "      <td>1.0</td>\n",
       "      <td>0.0</td>\n",
       "      <td>0.000000</td>\n",
       "      <td>0.0</td>\n",
       "      <td>0.0</td>\n",
       "      <td>0.00</td>\n",
       "      <td>0.0</td>\n",
       "      <td>...</td>\n",
       "      <td>0.0</td>\n",
       "      <td>0</td>\n",
       "      <td>0</td>\n",
       "      <td>0</td>\n",
       "      <td>0</td>\n",
       "      <td>0</td>\n",
       "      <td>0</td>\n",
       "      <td>0</td>\n",
       "      <td>0</td>\n",
       "      <td>0</td>\n",
       "    </tr>\n",
       "    <tr>\n",
       "      <th>2</th>\n",
       "      <td>34</td>\n",
       "      <td>1.0</td>\n",
       "      <td>17.0</td>\n",
       "      <td>1.0</td>\n",
       "      <td>0.0</td>\n",
       "      <td>0.000000</td>\n",
       "      <td>0.0</td>\n",
       "      <td>0.0</td>\n",
       "      <td>0.00</td>\n",
       "      <td>0.0</td>\n",
       "      <td>...</td>\n",
       "      <td>0.0</td>\n",
       "      <td>0</td>\n",
       "      <td>0</td>\n",
       "      <td>0</td>\n",
       "      <td>0</td>\n",
       "      <td>0</td>\n",
       "      <td>0</td>\n",
       "      <td>0</td>\n",
       "      <td>0</td>\n",
       "      <td>0</td>\n",
       "    </tr>\n",
       "    <tr>\n",
       "      <th>3</th>\n",
       "      <td>52</td>\n",
       "      <td>5.0</td>\n",
       "      <td>16.0</td>\n",
       "      <td>4.0</td>\n",
       "      <td>1.0</td>\n",
       "      <td>37.000000</td>\n",
       "      <td>37.0</td>\n",
       "      <td>1.0</td>\n",
       "      <td>3.00</td>\n",
       "      <td>0.0</td>\n",
       "      <td>...</td>\n",
       "      <td>0.0</td>\n",
       "      <td>0</td>\n",
       "      <td>1</td>\n",
       "      <td>0</td>\n",
       "      <td>1</td>\n",
       "      <td>0</td>\n",
       "      <td>0</td>\n",
       "      <td>0</td>\n",
       "      <td>0</td>\n",
       "      <td>0</td>\n",
       "    </tr>\n",
       "    <tr>\n",
       "      <th>4</th>\n",
       "      <td>46</td>\n",
       "      <td>3.0</td>\n",
       "      <td>21.0</td>\n",
       "      <td>4.0</td>\n",
       "      <td>0.0</td>\n",
       "      <td>0.000000</td>\n",
       "      <td>0.0</td>\n",
       "      <td>1.0</td>\n",
       "      <td>15.00</td>\n",
       "      <td>0.0</td>\n",
       "      <td>...</td>\n",
       "      <td>0.0</td>\n",
       "      <td>0</td>\n",
       "      <td>0</td>\n",
       "      <td>0</td>\n",
       "      <td>0</td>\n",
       "      <td>0</td>\n",
       "      <td>0</td>\n",
       "      <td>0</td>\n",
       "      <td>0</td>\n",
       "      <td>0</td>\n",
       "    </tr>\n",
       "    <tr>\n",
       "      <th>5</th>\n",
       "      <td>42</td>\n",
       "      <td>3.0</td>\n",
       "      <td>23.0</td>\n",
       "      <td>2.0</td>\n",
       "      <td>0.0</td>\n",
       "      <td>0.000000</td>\n",
       "      <td>0.0</td>\n",
       "      <td>0.0</td>\n",
       "      <td>0.00</td>\n",
       "      <td>0.0</td>\n",
       "      <td>...</td>\n",
       "      <td>0.0</td>\n",
       "      <td>0</td>\n",
       "      <td>0</td>\n",
       "      <td>0</td>\n",
       "      <td>0</td>\n",
       "      <td>0</td>\n",
       "      <td>0</td>\n",
       "      <td>0</td>\n",
       "      <td>0</td>\n",
       "      <td>0</td>\n",
       "    </tr>\n",
       "    <tr>\n",
       "      <th>6</th>\n",
       "      <td>51</td>\n",
       "      <td>3.0</td>\n",
       "      <td>17.0</td>\n",
       "      <td>6.0</td>\n",
       "      <td>1.0</td>\n",
       "      <td>34.000000</td>\n",
       "      <td>3.4</td>\n",
       "      <td>0.0</td>\n",
       "      <td>0.00</td>\n",
       "      <td>1.0</td>\n",
       "      <td>...</td>\n",
       "      <td>0.0</td>\n",
       "      <td>0</td>\n",
       "      <td>0</td>\n",
       "      <td>0</td>\n",
       "      <td>0</td>\n",
       "      <td>0</td>\n",
       "      <td>1</td>\n",
       "      <td>1</td>\n",
       "      <td>0</td>\n",
       "      <td>1</td>\n",
       "    </tr>\n",
       "    <tr>\n",
       "      <th>7</th>\n",
       "      <td>26</td>\n",
       "      <td>1.0</td>\n",
       "      <td>26.0</td>\n",
       "      <td>3.0</td>\n",
       "      <td>0.0</td>\n",
       "      <td>0.000000</td>\n",
       "      <td>0.0</td>\n",
       "      <td>1.0</td>\n",
       "      <td>2.00</td>\n",
       "      <td>1.0</td>\n",
       "      <td>...</td>\n",
       "      <td>0.0</td>\n",
       "      <td>0</td>\n",
       "      <td>0</td>\n",
       "      <td>0</td>\n",
       "      <td>0</td>\n",
       "      <td>0</td>\n",
       "      <td>0</td>\n",
       "      <td>0</td>\n",
       "      <td>0</td>\n",
       "      <td>0</td>\n",
       "    </tr>\n",
       "    <tr>\n",
       "      <th>8</th>\n",
       "      <td>45</td>\n",
       "      <td>1.0</td>\n",
       "      <td>20.0</td>\n",
       "      <td>5.0</td>\n",
       "      <td>0.0</td>\n",
       "      <td>0.000000</td>\n",
       "      <td>0.0</td>\n",
       "      <td>0.0</td>\n",
       "      <td>0.00</td>\n",
       "      <td>0.0</td>\n",
       "      <td>...</td>\n",
       "      <td>0.0</td>\n",
       "      <td>0</td>\n",
       "      <td>1</td>\n",
       "      <td>0</td>\n",
       "      <td>1</td>\n",
       "      <td>1</td>\n",
       "      <td>0</td>\n",
       "      <td>0</td>\n",
       "      <td>0</td>\n",
       "      <td>0</td>\n",
       "    </tr>\n",
       "    <tr>\n",
       "      <th>9</th>\n",
       "      <td>44</td>\n",
       "      <td>3.0</td>\n",
       "      <td>15.0</td>\n",
       "      <td>2.0</td>\n",
       "      <td>1.0</td>\n",
       "      <td>1.266973</td>\n",
       "      <td>2.8</td>\n",
       "      <td>0.0</td>\n",
       "      <td>0.00</td>\n",
       "      <td>NaN</td>\n",
       "      <td>...</td>\n",
       "      <td>0.0</td>\n",
       "      <td>0</td>\n",
       "      <td>0</td>\n",
       "      <td>0</td>\n",
       "      <td>0</td>\n",
       "      <td>0</td>\n",
       "      <td>0</td>\n",
       "      <td>0</td>\n",
       "      <td>0</td>\n",
       "      <td>0</td>\n",
       "    </tr>\n",
       "    <tr>\n",
       "      <th>10</th>\n",
       "      <td>44</td>\n",
       "      <td>3.0</td>\n",
       "      <td>26.0</td>\n",
       "      <td>4.0</td>\n",
       "      <td>0.0</td>\n",
       "      <td>0.000000</td>\n",
       "      <td>0.0</td>\n",
       "      <td>1.0</td>\n",
       "      <td>2.00</td>\n",
       "      <td>0.0</td>\n",
       "      <td>...</td>\n",
       "      <td>0.0</td>\n",
       "      <td>0</td>\n",
       "      <td>0</td>\n",
       "      <td>0</td>\n",
       "      <td>0</td>\n",
       "      <td>0</td>\n",
       "      <td>0</td>\n",
       "      <td>0</td>\n",
       "      <td>0</td>\n",
       "      <td>0</td>\n",
       "    </tr>\n",
       "    <tr>\n",
       "      <th>11</th>\n",
       "      <td>27</td>\n",
       "      <td>1.0</td>\n",
       "      <td>17.0</td>\n",
       "      <td>3.0</td>\n",
       "      <td>0.0</td>\n",
       "      <td>0.000000</td>\n",
       "      <td>0.0</td>\n",
       "      <td>1.0</td>\n",
       "      <td>8.00</td>\n",
       "      <td>0.0</td>\n",
       "      <td>...</td>\n",
       "      <td>0.0</td>\n",
       "      <td>0</td>\n",
       "      <td>0</td>\n",
       "      <td>0</td>\n",
       "      <td>0</td>\n",
       "      <td>0</td>\n",
       "      <td>0</td>\n",
       "      <td>0</td>\n",
       "      <td>0</td>\n",
       "      <td>0</td>\n",
       "    </tr>\n",
       "    <tr>\n",
       "      <th>12</th>\n",
       "      <td>45</td>\n",
       "      <td>4.0</td>\n",
       "      <td>14.0</td>\n",
       "      <td>6.0</td>\n",
       "      <td>0.0</td>\n",
       "      <td>0.000000</td>\n",
       "      <td>0.0</td>\n",
       "      <td>1.0</td>\n",
       "      <td>10.00</td>\n",
       "      <td>1.0</td>\n",
       "      <td>...</td>\n",
       "      <td>0.0</td>\n",
       "      <td>0</td>\n",
       "      <td>0</td>\n",
       "      <td>0</td>\n",
       "      <td>0</td>\n",
       "      <td>0</td>\n",
       "      <td>0</td>\n",
       "      <td>0</td>\n",
       "      <td>0</td>\n",
       "      <td>0</td>\n",
       "    </tr>\n",
       "    <tr>\n",
       "      <th>13</th>\n",
       "      <td>44</td>\n",
       "      <td>2.0</td>\n",
       "      <td>25.0</td>\n",
       "      <td>2.0</td>\n",
       "      <td>0.0</td>\n",
       "      <td>0.000000</td>\n",
       "      <td>0.0</td>\n",
       "      <td>1.0</td>\n",
       "      <td>5.00</td>\n",
       "      <td>0.0</td>\n",
       "      <td>...</td>\n",
       "      <td>0.0</td>\n",
       "      <td>0</td>\n",
       "      <td>0</td>\n",
       "      <td>0</td>\n",
       "      <td>0</td>\n",
       "      <td>0</td>\n",
       "      <td>0</td>\n",
       "      <td>0</td>\n",
       "      <td>0</td>\n",
       "      <td>0</td>\n",
       "    </tr>\n",
       "    <tr>\n",
       "      <th>14</th>\n",
       "      <td>43</td>\n",
       "      <td>2.0</td>\n",
       "      <td>18.0</td>\n",
       "      <td>5.0</td>\n",
       "      <td>0.0</td>\n",
       "      <td>0.000000</td>\n",
       "      <td>0.0</td>\n",
       "      <td>0.0</td>\n",
       "      <td>0.00</td>\n",
       "      <td>1.0</td>\n",
       "      <td>...</td>\n",
       "      <td>0.0</td>\n",
       "      <td>0</td>\n",
       "      <td>0</td>\n",
       "      <td>0</td>\n",
       "      <td>0</td>\n",
       "      <td>0</td>\n",
       "      <td>0</td>\n",
       "      <td>0</td>\n",
       "      <td>0</td>\n",
       "      <td>0</td>\n",
       "    </tr>\n",
       "    <tr>\n",
       "      <th>15</th>\n",
       "      <td>40</td>\n",
       "      <td>3.0</td>\n",
       "      <td>18.0</td>\n",
       "      <td>2.0</td>\n",
       "      <td>0.0</td>\n",
       "      <td>0.000000</td>\n",
       "      <td>0.0</td>\n",
       "      <td>1.0</td>\n",
       "      <td>15.00</td>\n",
       "      <td>0.0</td>\n",
       "      <td>...</td>\n",
       "      <td>0.0</td>\n",
       "      <td>0</td>\n",
       "      <td>0</td>\n",
       "      <td>0</td>\n",
       "      <td>0</td>\n",
       "      <td>0</td>\n",
       "      <td>0</td>\n",
       "      <td>0</td>\n",
       "      <td>0</td>\n",
       "      <td>0</td>\n",
       "    </tr>\n",
       "    <tr>\n",
       "      <th>16</th>\n",
       "      <td>41</td>\n",
       "      <td>4.0</td>\n",
       "      <td>21.0</td>\n",
       "      <td>3.0</td>\n",
       "      <td>0.0</td>\n",
       "      <td>0.000000</td>\n",
       "      <td>0.0</td>\n",
       "      <td>1.0</td>\n",
       "      <td>0.25</td>\n",
       "      <td>0.0</td>\n",
       "      <td>...</td>\n",
       "      <td>0.0</td>\n",
       "      <td>0</td>\n",
       "      <td>0</td>\n",
       "      <td>0</td>\n",
       "      <td>0</td>\n",
       "      <td>0</td>\n",
       "      <td>0</td>\n",
       "      <td>0</td>\n",
       "      <td>0</td>\n",
       "      <td>0</td>\n",
       "    </tr>\n",
       "    <tr>\n",
       "      <th>17</th>\n",
       "      <td>43</td>\n",
       "      <td>3.0</td>\n",
       "      <td>15.0</td>\n",
       "      <td>8.0</td>\n",
       "      <td>0.0</td>\n",
       "      <td>0.000000</td>\n",
       "      <td>0.0</td>\n",
       "      <td>1.0</td>\n",
       "      <td>3.00</td>\n",
       "      <td>0.0</td>\n",
       "      <td>...</td>\n",
       "      <td>0.0</td>\n",
       "      <td>0</td>\n",
       "      <td>0</td>\n",
       "      <td>0</td>\n",
       "      <td>0</td>\n",
       "      <td>0</td>\n",
       "      <td>0</td>\n",
       "      <td>0</td>\n",
       "      <td>0</td>\n",
       "      <td>0</td>\n",
       "    </tr>\n",
       "    <tr>\n",
       "      <th>18</th>\n",
       "      <td>42</td>\n",
       "      <td>2.0</td>\n",
       "      <td>20.0</td>\n",
       "      <td>2.0</td>\n",
       "      <td>0.0</td>\n",
       "      <td>0.000000</td>\n",
       "      <td>0.0</td>\n",
       "      <td>1.0</td>\n",
       "      <td>7.00</td>\n",
       "      <td>1.0</td>\n",
       "      <td>...</td>\n",
       "      <td>0.0</td>\n",
       "      <td>0</td>\n",
       "      <td>0</td>\n",
       "      <td>0</td>\n",
       "      <td>0</td>\n",
       "      <td>0</td>\n",
       "      <td>0</td>\n",
       "      <td>0</td>\n",
       "      <td>0</td>\n",
       "      <td>0</td>\n",
       "    </tr>\n",
       "    <tr>\n",
       "      <th>19</th>\n",
       "      <td>40</td>\n",
       "      <td>2.0</td>\n",
       "      <td>27.0</td>\n",
       "      <td>2.0</td>\n",
       "      <td>0.0</td>\n",
       "      <td>0.000000</td>\n",
       "      <td>0.0</td>\n",
       "      <td>0.0</td>\n",
       "      <td>0.00</td>\n",
       "      <td>1.0</td>\n",
       "      <td>...</td>\n",
       "      <td>0.0</td>\n",
       "      <td>0</td>\n",
       "      <td>0</td>\n",
       "      <td>0</td>\n",
       "      <td>0</td>\n",
       "      <td>0</td>\n",
       "      <td>0</td>\n",
       "      <td>0</td>\n",
       "      <td>0</td>\n",
       "      <td>0</td>\n",
       "    </tr>\n",
       "  </tbody>\n",
       "</table>\n",
       "<p>20 rows × 34 columns</p>\n",
       "</div>"
      ],
      "text/plain": [
       "    Age  Number of sexual partners  First sexual intercourse  \\\n",
       "0    18                        4.0                      15.0   \n",
       "1    15                        1.0                      14.0   \n",
       "2    34                        1.0                      17.0   \n",
       "3    52                        5.0                      16.0   \n",
       "4    46                        3.0                      21.0   \n",
       "5    42                        3.0                      23.0   \n",
       "6    51                        3.0                      17.0   \n",
       "7    26                        1.0                      26.0   \n",
       "8    45                        1.0                      20.0   \n",
       "9    44                        3.0                      15.0   \n",
       "10   44                        3.0                      26.0   \n",
       "11   27                        1.0                      17.0   \n",
       "12   45                        4.0                      14.0   \n",
       "13   44                        2.0                      25.0   \n",
       "14   43                        2.0                      18.0   \n",
       "15   40                        3.0                      18.0   \n",
       "16   41                        4.0                      21.0   \n",
       "17   43                        3.0                      15.0   \n",
       "18   42                        2.0                      20.0   \n",
       "19   40                        2.0                      27.0   \n",
       "\n",
       "    Num of pregnancies Smokes  Smokes (years)  Smokes (packs/year)  \\\n",
       "0                  1.0    0.0        0.000000                  0.0   \n",
       "1                  1.0    0.0        0.000000                  0.0   \n",
       "2                  1.0    0.0        0.000000                  0.0   \n",
       "3                  4.0    1.0       37.000000                 37.0   \n",
       "4                  4.0    0.0        0.000000                  0.0   \n",
       "5                  2.0    0.0        0.000000                  0.0   \n",
       "6                  6.0    1.0       34.000000                  3.4   \n",
       "7                  3.0    0.0        0.000000                  0.0   \n",
       "8                  5.0    0.0        0.000000                  0.0   \n",
       "9                  2.0    1.0        1.266973                  2.8   \n",
       "10                 4.0    0.0        0.000000                  0.0   \n",
       "11                 3.0    0.0        0.000000                  0.0   \n",
       "12                 6.0    0.0        0.000000                  0.0   \n",
       "13                 2.0    0.0        0.000000                  0.0   \n",
       "14                 5.0    0.0        0.000000                  0.0   \n",
       "15                 2.0    0.0        0.000000                  0.0   \n",
       "16                 3.0    0.0        0.000000                  0.0   \n",
       "17                 8.0    0.0        0.000000                  0.0   \n",
       "18                 2.0    0.0        0.000000                  0.0   \n",
       "19                 2.0    0.0        0.000000                  0.0   \n",
       "\n",
       "   Hormonal Contraceptives  Hormonal Contraceptives (years)  IUD  ...  \\\n",
       "0                      0.0                             0.00  0.0  ...   \n",
       "1                      0.0                             0.00  0.0  ...   \n",
       "2                      0.0                             0.00  0.0  ...   \n",
       "3                      1.0                             3.00  0.0  ...   \n",
       "4                      1.0                            15.00  0.0  ...   \n",
       "5                      0.0                             0.00  0.0  ...   \n",
       "6                      0.0                             0.00  1.0  ...   \n",
       "7                      1.0                             2.00  1.0  ...   \n",
       "8                      0.0                             0.00  0.0  ...   \n",
       "9                      0.0                             0.00  NaN  ...   \n",
       "10                     1.0                             2.00  0.0  ...   \n",
       "11                     1.0                             8.00  0.0  ...   \n",
       "12                     1.0                            10.00  1.0  ...   \n",
       "13                     1.0                             5.00  0.0  ...   \n",
       "14                     0.0                             0.00  1.0  ...   \n",
       "15                     1.0                            15.00  0.0  ...   \n",
       "16                     1.0                             0.25  0.0  ...   \n",
       "17                     1.0                             3.00  0.0  ...   \n",
       "18                     1.0                             7.00  1.0  ...   \n",
       "19                     0.0                             0.00  1.0  ...   \n",
       "\n",
       "    STDs:HPV STDs: Number of diagnosis  Dx:Cancer Dx:CIN Dx:HPV Dx Hinselmann  \\\n",
       "0        0.0                         0          0      0      0  0          0   \n",
       "1        0.0                         0          0      0      0  0          0   \n",
       "2        0.0                         0          0      0      0  0          0   \n",
       "3        0.0                         0          1      0      1  0          0   \n",
       "4        0.0                         0          0      0      0  0          0   \n",
       "5        0.0                         0          0      0      0  0          0   \n",
       "6        0.0                         0          0      0      0  0          1   \n",
       "7        0.0                         0          0      0      0  0          0   \n",
       "8        0.0                         0          1      0      1  1          0   \n",
       "9        0.0                         0          0      0      0  0          0   \n",
       "10       0.0                         0          0      0      0  0          0   \n",
       "11       0.0                         0          0      0      0  0          0   \n",
       "12       0.0                         0          0      0      0  0          0   \n",
       "13       0.0                         0          0      0      0  0          0   \n",
       "14       0.0                         0          0      0      0  0          0   \n",
       "15       0.0                         0          0      0      0  0          0   \n",
       "16       0.0                         0          0      0      0  0          0   \n",
       "17       0.0                         0          0      0      0  0          0   \n",
       "18       0.0                         0          0      0      0  0          0   \n",
       "19       0.0                         0          0      0      0  0          0   \n",
       "\n",
       "   Schiller Citology Biopsy  \n",
       "0         0        0      0  \n",
       "1         0        0      0  \n",
       "2         0        0      0  \n",
       "3         0        0      0  \n",
       "4         0        0      0  \n",
       "5         0        0      0  \n",
       "6         1        0      1  \n",
       "7         0        0      0  \n",
       "8         0        0      0  \n",
       "9         0        0      0  \n",
       "10        0        0      0  \n",
       "11        0        0      0  \n",
       "12        0        0      0  \n",
       "13        0        0      0  \n",
       "14        0        0      0  \n",
       "15        0        0      0  \n",
       "16        0        0      0  \n",
       "17        0        0      0  \n",
       "18        0        0      0  \n",
       "19        0        0      0  \n",
       "\n",
       "[20 rows x 34 columns]"
      ]
     },
     "execution_count": 10,
     "metadata": {},
     "output_type": "execute_result"
    }
   ],
   "source": [
    "for feature in numerical_df:\n",
    "    print(feature, '', pd.to_numeric(new_df[feature], errors='coerce').median())\n",
    "    feature_median = round(pd.to_numeric(new_df[feature], errors='coerce').median(), 1)\n",
    "    new_df[feature] = pd.to_numeric(new_df[feature], errors='coerce').fillna(feature_median)\n",
    "new_df.head(20)"
   ]
  },
  {
   "cell_type": "markdown",
   "id": "b8dbc33d",
   "metadata": {
    "papermill": {
     "duration": 0.015725,
     "end_time": "2023-04-16T13:49:43.672598",
     "exception": false,
     "start_time": "2023-04-16T13:49:43.656873",
     "status": "completed"
    },
    "tags": []
   },
   "source": [
    "### **Imputing the categorical columns with mode**"
   ]
  },
  {
   "cell_type": "code",
   "execution_count": 11,
   "id": "5068d1e6",
   "metadata": {
    "execution": {
     "iopub.execute_input": "2023-04-16T13:49:43.706594Z",
     "iopub.status.busy": "2023-04-16T13:49:43.706110Z",
     "iopub.status.idle": "2023-04-16T13:49:43.779222Z",
     "shell.execute_reply": "2023-04-16T13:49:43.777182Z"
    },
    "papermill": {
     "duration": 0.094739,
     "end_time": "2023-04-16T13:49:43.782968",
     "exception": false,
     "start_time": "2023-04-16T13:49:43.688229",
     "status": "completed"
    },
    "tags": []
   },
   "outputs": [
    {
     "name": "stdout",
     "output_type": "stream",
     "text": [
      "Smokes  0.0\n",
      "Hormonal Contraceptives  1.0\n",
      "IUD  0.0\n",
      "STDs  0.0\n",
      "STDs:condylomatosis  0.0\n",
      "STDs:cervical condylomatosis  0.0\n",
      "STDs:vaginal condylomatosis  0.0\n",
      "STDs:vulvo-perineal condylomatosis  0.0\n",
      "STDs:syphilis  0.0\n",
      "STDs:pelvic inflammatory disease  0.0\n",
      "STDs:genital herpes  0.0\n",
      "STDs:molluscum contagiosum  0.0\n",
      "STDs:AIDS  0.0\n",
      "STDs:HIV  0.0\n",
      "STDs:Hepatitis B  0.0\n",
      "STDs:HPV  0.0\n",
      "STDs: Number of diagnosis  0\n",
      "Dx:Cancer  0\n",
      "Dx:CIN  0\n",
      "Dx:HPV  0\n",
      "Dx  0\n",
      "Hinselmann  0\n",
      "Schiller  0\n",
      "Citology  0\n",
      "Biopsy  0\n"
     ]
    },
    {
     "data": {
      "text/html": [
       "<div>\n",
       "<style scoped>\n",
       "    .dataframe tbody tr th:only-of-type {\n",
       "        vertical-align: middle;\n",
       "    }\n",
       "\n",
       "    .dataframe tbody tr th {\n",
       "        vertical-align: top;\n",
       "    }\n",
       "\n",
       "    .dataframe thead th {\n",
       "        text-align: right;\n",
       "    }\n",
       "</style>\n",
       "<table border=\"1\" class=\"dataframe\">\n",
       "  <thead>\n",
       "    <tr style=\"text-align: right;\">\n",
       "      <th></th>\n",
       "      <th>Age</th>\n",
       "      <th>Number of sexual partners</th>\n",
       "      <th>First sexual intercourse</th>\n",
       "      <th>Num of pregnancies</th>\n",
       "      <th>Smokes</th>\n",
       "      <th>Smokes (years)</th>\n",
       "      <th>Smokes (packs/year)</th>\n",
       "      <th>Hormonal Contraceptives</th>\n",
       "      <th>Hormonal Contraceptives (years)</th>\n",
       "      <th>IUD</th>\n",
       "      <th>...</th>\n",
       "      <th>STDs:HPV</th>\n",
       "      <th>STDs: Number of diagnosis</th>\n",
       "      <th>Dx:Cancer</th>\n",
       "      <th>Dx:CIN</th>\n",
       "      <th>Dx:HPV</th>\n",
       "      <th>Dx</th>\n",
       "      <th>Hinselmann</th>\n",
       "      <th>Schiller</th>\n",
       "      <th>Citology</th>\n",
       "      <th>Biopsy</th>\n",
       "    </tr>\n",
       "  </thead>\n",
       "  <tbody>\n",
       "    <tr>\n",
       "      <th>0</th>\n",
       "      <td>18</td>\n",
       "      <td>4.0</td>\n",
       "      <td>15.0</td>\n",
       "      <td>1.0</td>\n",
       "      <td>0.0</td>\n",
       "      <td>0.000000</td>\n",
       "      <td>0.0</td>\n",
       "      <td>0.0</td>\n",
       "      <td>0.00</td>\n",
       "      <td>0.0</td>\n",
       "      <td>...</td>\n",
       "      <td>0.0</td>\n",
       "      <td>0</td>\n",
       "      <td>0</td>\n",
       "      <td>0</td>\n",
       "      <td>0</td>\n",
       "      <td>0</td>\n",
       "      <td>0</td>\n",
       "      <td>0</td>\n",
       "      <td>0</td>\n",
       "      <td>0</td>\n",
       "    </tr>\n",
       "    <tr>\n",
       "      <th>1</th>\n",
       "      <td>15</td>\n",
       "      <td>1.0</td>\n",
       "      <td>14.0</td>\n",
       "      <td>1.0</td>\n",
       "      <td>0.0</td>\n",
       "      <td>0.000000</td>\n",
       "      <td>0.0</td>\n",
       "      <td>0.0</td>\n",
       "      <td>0.00</td>\n",
       "      <td>0.0</td>\n",
       "      <td>...</td>\n",
       "      <td>0.0</td>\n",
       "      <td>0</td>\n",
       "      <td>0</td>\n",
       "      <td>0</td>\n",
       "      <td>0</td>\n",
       "      <td>0</td>\n",
       "      <td>0</td>\n",
       "      <td>0</td>\n",
       "      <td>0</td>\n",
       "      <td>0</td>\n",
       "    </tr>\n",
       "    <tr>\n",
       "      <th>2</th>\n",
       "      <td>34</td>\n",
       "      <td>1.0</td>\n",
       "      <td>17.0</td>\n",
       "      <td>1.0</td>\n",
       "      <td>0.0</td>\n",
       "      <td>0.000000</td>\n",
       "      <td>0.0</td>\n",
       "      <td>0.0</td>\n",
       "      <td>0.00</td>\n",
       "      <td>0.0</td>\n",
       "      <td>...</td>\n",
       "      <td>0.0</td>\n",
       "      <td>0</td>\n",
       "      <td>0</td>\n",
       "      <td>0</td>\n",
       "      <td>0</td>\n",
       "      <td>0</td>\n",
       "      <td>0</td>\n",
       "      <td>0</td>\n",
       "      <td>0</td>\n",
       "      <td>0</td>\n",
       "    </tr>\n",
       "    <tr>\n",
       "      <th>3</th>\n",
       "      <td>52</td>\n",
       "      <td>5.0</td>\n",
       "      <td>16.0</td>\n",
       "      <td>4.0</td>\n",
       "      <td>1.0</td>\n",
       "      <td>37.000000</td>\n",
       "      <td>37.0</td>\n",
       "      <td>1.0</td>\n",
       "      <td>3.00</td>\n",
       "      <td>0.0</td>\n",
       "      <td>...</td>\n",
       "      <td>0.0</td>\n",
       "      <td>0</td>\n",
       "      <td>1</td>\n",
       "      <td>0</td>\n",
       "      <td>1</td>\n",
       "      <td>0</td>\n",
       "      <td>0</td>\n",
       "      <td>0</td>\n",
       "      <td>0</td>\n",
       "      <td>0</td>\n",
       "    </tr>\n",
       "    <tr>\n",
       "      <th>4</th>\n",
       "      <td>46</td>\n",
       "      <td>3.0</td>\n",
       "      <td>21.0</td>\n",
       "      <td>4.0</td>\n",
       "      <td>0.0</td>\n",
       "      <td>0.000000</td>\n",
       "      <td>0.0</td>\n",
       "      <td>1.0</td>\n",
       "      <td>15.00</td>\n",
       "      <td>0.0</td>\n",
       "      <td>...</td>\n",
       "      <td>0.0</td>\n",
       "      <td>0</td>\n",
       "      <td>0</td>\n",
       "      <td>0</td>\n",
       "      <td>0</td>\n",
       "      <td>0</td>\n",
       "      <td>0</td>\n",
       "      <td>0</td>\n",
       "      <td>0</td>\n",
       "      <td>0</td>\n",
       "    </tr>\n",
       "    <tr>\n",
       "      <th>5</th>\n",
       "      <td>42</td>\n",
       "      <td>3.0</td>\n",
       "      <td>23.0</td>\n",
       "      <td>2.0</td>\n",
       "      <td>0.0</td>\n",
       "      <td>0.000000</td>\n",
       "      <td>0.0</td>\n",
       "      <td>0.0</td>\n",
       "      <td>0.00</td>\n",
       "      <td>0.0</td>\n",
       "      <td>...</td>\n",
       "      <td>0.0</td>\n",
       "      <td>0</td>\n",
       "      <td>0</td>\n",
       "      <td>0</td>\n",
       "      <td>0</td>\n",
       "      <td>0</td>\n",
       "      <td>0</td>\n",
       "      <td>0</td>\n",
       "      <td>0</td>\n",
       "      <td>0</td>\n",
       "    </tr>\n",
       "    <tr>\n",
       "      <th>6</th>\n",
       "      <td>51</td>\n",
       "      <td>3.0</td>\n",
       "      <td>17.0</td>\n",
       "      <td>6.0</td>\n",
       "      <td>1.0</td>\n",
       "      <td>34.000000</td>\n",
       "      <td>3.4</td>\n",
       "      <td>0.0</td>\n",
       "      <td>0.00</td>\n",
       "      <td>1.0</td>\n",
       "      <td>...</td>\n",
       "      <td>0.0</td>\n",
       "      <td>0</td>\n",
       "      <td>0</td>\n",
       "      <td>0</td>\n",
       "      <td>0</td>\n",
       "      <td>0</td>\n",
       "      <td>1</td>\n",
       "      <td>1</td>\n",
       "      <td>0</td>\n",
       "      <td>1</td>\n",
       "    </tr>\n",
       "    <tr>\n",
       "      <th>7</th>\n",
       "      <td>26</td>\n",
       "      <td>1.0</td>\n",
       "      <td>26.0</td>\n",
       "      <td>3.0</td>\n",
       "      <td>0.0</td>\n",
       "      <td>0.000000</td>\n",
       "      <td>0.0</td>\n",
       "      <td>1.0</td>\n",
       "      <td>2.00</td>\n",
       "      <td>1.0</td>\n",
       "      <td>...</td>\n",
       "      <td>0.0</td>\n",
       "      <td>0</td>\n",
       "      <td>0</td>\n",
       "      <td>0</td>\n",
       "      <td>0</td>\n",
       "      <td>0</td>\n",
       "      <td>0</td>\n",
       "      <td>0</td>\n",
       "      <td>0</td>\n",
       "      <td>0</td>\n",
       "    </tr>\n",
       "    <tr>\n",
       "      <th>8</th>\n",
       "      <td>45</td>\n",
       "      <td>1.0</td>\n",
       "      <td>20.0</td>\n",
       "      <td>5.0</td>\n",
       "      <td>0.0</td>\n",
       "      <td>0.000000</td>\n",
       "      <td>0.0</td>\n",
       "      <td>0.0</td>\n",
       "      <td>0.00</td>\n",
       "      <td>0.0</td>\n",
       "      <td>...</td>\n",
       "      <td>0.0</td>\n",
       "      <td>0</td>\n",
       "      <td>1</td>\n",
       "      <td>0</td>\n",
       "      <td>1</td>\n",
       "      <td>1</td>\n",
       "      <td>0</td>\n",
       "      <td>0</td>\n",
       "      <td>0</td>\n",
       "      <td>0</td>\n",
       "    </tr>\n",
       "    <tr>\n",
       "      <th>9</th>\n",
       "      <td>44</td>\n",
       "      <td>3.0</td>\n",
       "      <td>15.0</td>\n",
       "      <td>2.0</td>\n",
       "      <td>1.0</td>\n",
       "      <td>1.266973</td>\n",
       "      <td>2.8</td>\n",
       "      <td>0.0</td>\n",
       "      <td>0.00</td>\n",
       "      <td>0.0</td>\n",
       "      <td>...</td>\n",
       "      <td>0.0</td>\n",
       "      <td>0</td>\n",
       "      <td>0</td>\n",
       "      <td>0</td>\n",
       "      <td>0</td>\n",
       "      <td>0</td>\n",
       "      <td>0</td>\n",
       "      <td>0</td>\n",
       "      <td>0</td>\n",
       "      <td>0</td>\n",
       "    </tr>\n",
       "    <tr>\n",
       "      <th>10</th>\n",
       "      <td>44</td>\n",
       "      <td>3.0</td>\n",
       "      <td>26.0</td>\n",
       "      <td>4.0</td>\n",
       "      <td>0.0</td>\n",
       "      <td>0.000000</td>\n",
       "      <td>0.0</td>\n",
       "      <td>1.0</td>\n",
       "      <td>2.00</td>\n",
       "      <td>0.0</td>\n",
       "      <td>...</td>\n",
       "      <td>0.0</td>\n",
       "      <td>0</td>\n",
       "      <td>0</td>\n",
       "      <td>0</td>\n",
       "      <td>0</td>\n",
       "      <td>0</td>\n",
       "      <td>0</td>\n",
       "      <td>0</td>\n",
       "      <td>0</td>\n",
       "      <td>0</td>\n",
       "    </tr>\n",
       "    <tr>\n",
       "      <th>11</th>\n",
       "      <td>27</td>\n",
       "      <td>1.0</td>\n",
       "      <td>17.0</td>\n",
       "      <td>3.0</td>\n",
       "      <td>0.0</td>\n",
       "      <td>0.000000</td>\n",
       "      <td>0.0</td>\n",
       "      <td>1.0</td>\n",
       "      <td>8.00</td>\n",
       "      <td>0.0</td>\n",
       "      <td>...</td>\n",
       "      <td>0.0</td>\n",
       "      <td>0</td>\n",
       "      <td>0</td>\n",
       "      <td>0</td>\n",
       "      <td>0</td>\n",
       "      <td>0</td>\n",
       "      <td>0</td>\n",
       "      <td>0</td>\n",
       "      <td>0</td>\n",
       "      <td>0</td>\n",
       "    </tr>\n",
       "    <tr>\n",
       "      <th>12</th>\n",
       "      <td>45</td>\n",
       "      <td>4.0</td>\n",
       "      <td>14.0</td>\n",
       "      <td>6.0</td>\n",
       "      <td>0.0</td>\n",
       "      <td>0.000000</td>\n",
       "      <td>0.0</td>\n",
       "      <td>1.0</td>\n",
       "      <td>10.00</td>\n",
       "      <td>1.0</td>\n",
       "      <td>...</td>\n",
       "      <td>0.0</td>\n",
       "      <td>0</td>\n",
       "      <td>0</td>\n",
       "      <td>0</td>\n",
       "      <td>0</td>\n",
       "      <td>0</td>\n",
       "      <td>0</td>\n",
       "      <td>0</td>\n",
       "      <td>0</td>\n",
       "      <td>0</td>\n",
       "    </tr>\n",
       "    <tr>\n",
       "      <th>13</th>\n",
       "      <td>44</td>\n",
       "      <td>2.0</td>\n",
       "      <td>25.0</td>\n",
       "      <td>2.0</td>\n",
       "      <td>0.0</td>\n",
       "      <td>0.000000</td>\n",
       "      <td>0.0</td>\n",
       "      <td>1.0</td>\n",
       "      <td>5.00</td>\n",
       "      <td>0.0</td>\n",
       "      <td>...</td>\n",
       "      <td>0.0</td>\n",
       "      <td>0</td>\n",
       "      <td>0</td>\n",
       "      <td>0</td>\n",
       "      <td>0</td>\n",
       "      <td>0</td>\n",
       "      <td>0</td>\n",
       "      <td>0</td>\n",
       "      <td>0</td>\n",
       "      <td>0</td>\n",
       "    </tr>\n",
       "    <tr>\n",
       "      <th>14</th>\n",
       "      <td>43</td>\n",
       "      <td>2.0</td>\n",
       "      <td>18.0</td>\n",
       "      <td>5.0</td>\n",
       "      <td>0.0</td>\n",
       "      <td>0.000000</td>\n",
       "      <td>0.0</td>\n",
       "      <td>0.0</td>\n",
       "      <td>0.00</td>\n",
       "      <td>1.0</td>\n",
       "      <td>...</td>\n",
       "      <td>0.0</td>\n",
       "      <td>0</td>\n",
       "      <td>0</td>\n",
       "      <td>0</td>\n",
       "      <td>0</td>\n",
       "      <td>0</td>\n",
       "      <td>0</td>\n",
       "      <td>0</td>\n",
       "      <td>0</td>\n",
       "      <td>0</td>\n",
       "    </tr>\n",
       "    <tr>\n",
       "      <th>15</th>\n",
       "      <td>40</td>\n",
       "      <td>3.0</td>\n",
       "      <td>18.0</td>\n",
       "      <td>2.0</td>\n",
       "      <td>0.0</td>\n",
       "      <td>0.000000</td>\n",
       "      <td>0.0</td>\n",
       "      <td>1.0</td>\n",
       "      <td>15.00</td>\n",
       "      <td>0.0</td>\n",
       "      <td>...</td>\n",
       "      <td>0.0</td>\n",
       "      <td>0</td>\n",
       "      <td>0</td>\n",
       "      <td>0</td>\n",
       "      <td>0</td>\n",
       "      <td>0</td>\n",
       "      <td>0</td>\n",
       "      <td>0</td>\n",
       "      <td>0</td>\n",
       "      <td>0</td>\n",
       "    </tr>\n",
       "    <tr>\n",
       "      <th>16</th>\n",
       "      <td>41</td>\n",
       "      <td>4.0</td>\n",
       "      <td>21.0</td>\n",
       "      <td>3.0</td>\n",
       "      <td>0.0</td>\n",
       "      <td>0.000000</td>\n",
       "      <td>0.0</td>\n",
       "      <td>1.0</td>\n",
       "      <td>0.25</td>\n",
       "      <td>0.0</td>\n",
       "      <td>...</td>\n",
       "      <td>0.0</td>\n",
       "      <td>0</td>\n",
       "      <td>0</td>\n",
       "      <td>0</td>\n",
       "      <td>0</td>\n",
       "      <td>0</td>\n",
       "      <td>0</td>\n",
       "      <td>0</td>\n",
       "      <td>0</td>\n",
       "      <td>0</td>\n",
       "    </tr>\n",
       "    <tr>\n",
       "      <th>17</th>\n",
       "      <td>43</td>\n",
       "      <td>3.0</td>\n",
       "      <td>15.0</td>\n",
       "      <td>8.0</td>\n",
       "      <td>0.0</td>\n",
       "      <td>0.000000</td>\n",
       "      <td>0.0</td>\n",
       "      <td>1.0</td>\n",
       "      <td>3.00</td>\n",
       "      <td>0.0</td>\n",
       "      <td>...</td>\n",
       "      <td>0.0</td>\n",
       "      <td>0</td>\n",
       "      <td>0</td>\n",
       "      <td>0</td>\n",
       "      <td>0</td>\n",
       "      <td>0</td>\n",
       "      <td>0</td>\n",
       "      <td>0</td>\n",
       "      <td>0</td>\n",
       "      <td>0</td>\n",
       "    </tr>\n",
       "    <tr>\n",
       "      <th>18</th>\n",
       "      <td>42</td>\n",
       "      <td>2.0</td>\n",
       "      <td>20.0</td>\n",
       "      <td>2.0</td>\n",
       "      <td>0.0</td>\n",
       "      <td>0.000000</td>\n",
       "      <td>0.0</td>\n",
       "      <td>1.0</td>\n",
       "      <td>7.00</td>\n",
       "      <td>1.0</td>\n",
       "      <td>...</td>\n",
       "      <td>0.0</td>\n",
       "      <td>0</td>\n",
       "      <td>0</td>\n",
       "      <td>0</td>\n",
       "      <td>0</td>\n",
       "      <td>0</td>\n",
       "      <td>0</td>\n",
       "      <td>0</td>\n",
       "      <td>0</td>\n",
       "      <td>0</td>\n",
       "    </tr>\n",
       "    <tr>\n",
       "      <th>19</th>\n",
       "      <td>40</td>\n",
       "      <td>2.0</td>\n",
       "      <td>27.0</td>\n",
       "      <td>2.0</td>\n",
       "      <td>0.0</td>\n",
       "      <td>0.000000</td>\n",
       "      <td>0.0</td>\n",
       "      <td>0.0</td>\n",
       "      <td>0.00</td>\n",
       "      <td>1.0</td>\n",
       "      <td>...</td>\n",
       "      <td>0.0</td>\n",
       "      <td>0</td>\n",
       "      <td>0</td>\n",
       "      <td>0</td>\n",
       "      <td>0</td>\n",
       "      <td>0</td>\n",
       "      <td>0</td>\n",
       "      <td>0</td>\n",
       "      <td>0</td>\n",
       "      <td>0</td>\n",
       "    </tr>\n",
       "  </tbody>\n",
       "</table>\n",
       "<p>20 rows × 34 columns</p>\n",
       "</div>"
      ],
      "text/plain": [
       "    Age  Number of sexual partners  First sexual intercourse  \\\n",
       "0    18                        4.0                      15.0   \n",
       "1    15                        1.0                      14.0   \n",
       "2    34                        1.0                      17.0   \n",
       "3    52                        5.0                      16.0   \n",
       "4    46                        3.0                      21.0   \n",
       "5    42                        3.0                      23.0   \n",
       "6    51                        3.0                      17.0   \n",
       "7    26                        1.0                      26.0   \n",
       "8    45                        1.0                      20.0   \n",
       "9    44                        3.0                      15.0   \n",
       "10   44                        3.0                      26.0   \n",
       "11   27                        1.0                      17.0   \n",
       "12   45                        4.0                      14.0   \n",
       "13   44                        2.0                      25.0   \n",
       "14   43                        2.0                      18.0   \n",
       "15   40                        3.0                      18.0   \n",
       "16   41                        4.0                      21.0   \n",
       "17   43                        3.0                      15.0   \n",
       "18   42                        2.0                      20.0   \n",
       "19   40                        2.0                      27.0   \n",
       "\n",
       "    Num of pregnancies Smokes  Smokes (years)  Smokes (packs/year)  \\\n",
       "0                  1.0    0.0        0.000000                  0.0   \n",
       "1                  1.0    0.0        0.000000                  0.0   \n",
       "2                  1.0    0.0        0.000000                  0.0   \n",
       "3                  4.0    1.0       37.000000                 37.0   \n",
       "4                  4.0    0.0        0.000000                  0.0   \n",
       "5                  2.0    0.0        0.000000                  0.0   \n",
       "6                  6.0    1.0       34.000000                  3.4   \n",
       "7                  3.0    0.0        0.000000                  0.0   \n",
       "8                  5.0    0.0        0.000000                  0.0   \n",
       "9                  2.0    1.0        1.266973                  2.8   \n",
       "10                 4.0    0.0        0.000000                  0.0   \n",
       "11                 3.0    0.0        0.000000                  0.0   \n",
       "12                 6.0    0.0        0.000000                  0.0   \n",
       "13                 2.0    0.0        0.000000                  0.0   \n",
       "14                 5.0    0.0        0.000000                  0.0   \n",
       "15                 2.0    0.0        0.000000                  0.0   \n",
       "16                 3.0    0.0        0.000000                  0.0   \n",
       "17                 8.0    0.0        0.000000                  0.0   \n",
       "18                 2.0    0.0        0.000000                  0.0   \n",
       "19                 2.0    0.0        0.000000                  0.0   \n",
       "\n",
       "   Hormonal Contraceptives  Hormonal Contraceptives (years)  IUD  ...  \\\n",
       "0                      0.0                             0.00  0.0  ...   \n",
       "1                      0.0                             0.00  0.0  ...   \n",
       "2                      0.0                             0.00  0.0  ...   \n",
       "3                      1.0                             3.00  0.0  ...   \n",
       "4                      1.0                            15.00  0.0  ...   \n",
       "5                      0.0                             0.00  0.0  ...   \n",
       "6                      0.0                             0.00  1.0  ...   \n",
       "7                      1.0                             2.00  1.0  ...   \n",
       "8                      0.0                             0.00  0.0  ...   \n",
       "9                      0.0                             0.00  0.0  ...   \n",
       "10                     1.0                             2.00  0.0  ...   \n",
       "11                     1.0                             8.00  0.0  ...   \n",
       "12                     1.0                            10.00  1.0  ...   \n",
       "13                     1.0                             5.00  0.0  ...   \n",
       "14                     0.0                             0.00  1.0  ...   \n",
       "15                     1.0                            15.00  0.0  ...   \n",
       "16                     1.0                             0.25  0.0  ...   \n",
       "17                     1.0                             3.00  0.0  ...   \n",
       "18                     1.0                             7.00  1.0  ...   \n",
       "19                     0.0                             0.00  1.0  ...   \n",
       "\n",
       "    STDs:HPV STDs: Number of diagnosis  Dx:Cancer Dx:CIN Dx:HPV Dx Hinselmann  \\\n",
       "0        0.0                         0          0      0      0  0          0   \n",
       "1        0.0                         0          0      0      0  0          0   \n",
       "2        0.0                         0          0      0      0  0          0   \n",
       "3        0.0                         0          1      0      1  0          0   \n",
       "4        0.0                         0          0      0      0  0          0   \n",
       "5        0.0                         0          0      0      0  0          0   \n",
       "6        0.0                         0          0      0      0  0          1   \n",
       "7        0.0                         0          0      0      0  0          0   \n",
       "8        0.0                         0          1      0      1  1          0   \n",
       "9        0.0                         0          0      0      0  0          0   \n",
       "10       0.0                         0          0      0      0  0          0   \n",
       "11       0.0                         0          0      0      0  0          0   \n",
       "12       0.0                         0          0      0      0  0          0   \n",
       "13       0.0                         0          0      0      0  0          0   \n",
       "14       0.0                         0          0      0      0  0          0   \n",
       "15       0.0                         0          0      0      0  0          0   \n",
       "16       0.0                         0          0      0      0  0          0   \n",
       "17       0.0                         0          0      0      0  0          0   \n",
       "18       0.0                         0          0      0      0  0          0   \n",
       "19       0.0                         0          0      0      0  0          0   \n",
       "\n",
       "   Schiller Citology Biopsy  \n",
       "0         0        0      0  \n",
       "1         0        0      0  \n",
       "2         0        0      0  \n",
       "3         0        0      0  \n",
       "4         0        0      0  \n",
       "5         0        0      0  \n",
       "6         1        0      1  \n",
       "7         0        0      0  \n",
       "8         0        0      0  \n",
       "9         0        0      0  \n",
       "10        0        0      0  \n",
       "11        0        0      0  \n",
       "12        0        0      0  \n",
       "13        0        0      0  \n",
       "14        0        0      0  \n",
       "15        0        0      0  \n",
       "16        0        0      0  \n",
       "17        0        0      0  \n",
       "18        0        0      0  \n",
       "19        0        0      0  \n",
       "\n",
       "[20 rows x 34 columns]"
      ]
     },
     "execution_count": 11,
     "metadata": {},
     "output_type": "execute_result"
    }
   ],
   "source": [
    "for feature in categorical_df:\n",
    "    print(feature, '', new_df[feature].mode()[0])\n",
    "    feature_mode = new_df[feature].mode()[0]\n",
    "    new_df[feature] = new_df[feature].fillna(feature_mode)\n",
    "new_df.head(20)"
   ]
  },
  {
   "cell_type": "markdown",
   "id": "552a226b",
   "metadata": {
    "papermill": {
     "duration": 0.016959,
     "end_time": "2023-04-16T13:49:43.818839",
     "exception": false,
     "start_time": "2023-04-16T13:49:43.801880",
     "status": "completed"
    },
    "tags": []
   },
   "source": [
    "# **Target Variable: Hinselmann**"
   ]
  },
  {
   "cell_type": "markdown",
   "id": "2d6d29c3",
   "metadata": {
    "papermill": {
     "duration": 0.015788,
     "end_time": "2023-04-16T13:49:43.850890",
     "exception": false,
     "start_time": "2023-04-16T13:49:43.835102",
     "status": "completed"
    },
    "tags": []
   },
   "source": [
    "### **Now, only focus on Hinselmann target variable and drop the other three**"
   ]
  },
  {
   "cell_type": "code",
   "execution_count": 12,
   "id": "0271d468",
   "metadata": {
    "execution": {
     "iopub.execute_input": "2023-04-16T13:49:43.886374Z",
     "iopub.status.busy": "2023-04-16T13:49:43.885909Z",
     "iopub.status.idle": "2023-04-16T13:49:43.895073Z",
     "shell.execute_reply": "2023-04-16T13:49:43.893411Z"
    },
    "papermill": {
     "duration": 0.030471,
     "end_time": "2023-04-16T13:49:43.897774",
     "exception": false,
     "start_time": "2023-04-16T13:49:43.867303",
     "status": "completed"
    },
    "tags": []
   },
   "outputs": [
    {
     "name": "stdout",
     "output_type": "stream",
     "text": [
      "Index(['Age', 'Number of sexual partners', 'First sexual intercourse',\n",
      "       'Num of pregnancies', 'Smokes', 'Smokes (years)', 'Smokes (packs/year)',\n",
      "       'Hormonal Contraceptives', 'Hormonal Contraceptives (years)', 'IUD',\n",
      "       'IUD (years)', 'STDs', 'STDs (number)', 'STDs:condylomatosis',\n",
      "       'STDs:cervical condylomatosis', 'STDs:vaginal condylomatosis',\n",
      "       'STDs:vulvo-perineal condylomatosis', 'STDs:syphilis',\n",
      "       'STDs:pelvic inflammatory disease', 'STDs:genital herpes',\n",
      "       'STDs:molluscum contagiosum', 'STDs:AIDS', 'STDs:HIV',\n",
      "       'STDs:Hepatitis B', 'STDs:HPV', 'STDs: Number of diagnosis',\n",
      "       'Dx:Cancer', 'Dx:CIN', 'Dx:HPV', 'Dx', 'Hinselmann'],\n",
      "      dtype='object')\n",
      "(858, 31)\n"
     ]
    }
   ],
   "source": [
    "new_df = new_df.drop(['Schiller', 'Citology', 'Biopsy'],axis=1)\n",
    "\n",
    "print(new_df.columns)\n",
    "\n",
    "print(new_df.shape)"
   ]
  },
  {
   "cell_type": "markdown",
   "id": "4cc82a5b",
   "metadata": {
    "papermill": {
     "duration": 0.0178,
     "end_time": "2023-04-16T13:49:43.932483",
     "exception": false,
     "start_time": "2023-04-16T13:49:43.914683",
     "status": "completed"
    },
    "tags": []
   },
   "source": [
    "### **Splitting Test and Train data**"
   ]
  },
  {
   "cell_type": "code",
   "execution_count": 13,
   "id": "0f4e5298",
   "metadata": {
    "execution": {
     "iopub.execute_input": "2023-04-16T13:49:43.969358Z",
     "iopub.status.busy": "2023-04-16T13:49:43.968860Z",
     "iopub.status.idle": "2023-04-16T13:49:43.993173Z",
     "shell.execute_reply": "2023-04-16T13:49:43.991361Z"
    },
    "papermill": {
     "duration": 0.046322,
     "end_time": "2023-04-16T13:49:43.996202",
     "exception": false,
     "start_time": "2023-04-16T13:49:43.949880",
     "status": "completed"
    },
    "tags": []
   },
   "outputs": [
    {
     "name": "stdout",
     "output_type": "stream",
     "text": [
      "Testing set shape:\n",
      "Hinselmann: (172, 30), (172,)\n",
      "(686, 31)\n",
      "(172, 31)\n"
     ]
    }
   ],
   "source": [
    "X = new_df.iloc[:, :-1]  # select all columns except the last four\n",
    "y1 = new_df['Hinselmann']\n",
    "\n",
    "# Create a dictionary to store test sets for each target variable\n",
    "test_sets = {}\n",
    "\n",
    "# Split data and store test sets in the dictionary\n",
    "X_train, X_test, y1_train, y1_test = train_test_split(X, y1, test_size=0.2, random_state=42)\n",
    "test_sets['Hinselmann'] = (X_test, y1_test)\n",
    "\n",
    "train_df = pd.concat([X_train, y1_train], axis=1)\n",
    "test_df = pd.concat([X_test, y1_test], axis=1)\n",
    "\n",
    "# Print the shapes of the test sets\n",
    "print('Testing set shape:')\n",
    "for target in test_sets:\n",
    "    X_test, y_test = test_sets[target]\n",
    "    print(f\"{target}: {X_test.shape}, {y_test.shape}\")\n",
    "print(train_df.shape)\n",
    "print(test_df.shape)"
   ]
  },
  {
   "cell_type": "markdown",
   "id": "72173453",
   "metadata": {
    "papermill": {
     "duration": 0.016772,
     "end_time": "2023-04-16T13:49:44.030272",
     "exception": false,
     "start_time": "2023-04-16T13:49:44.013500",
     "status": "completed"
    },
    "tags": []
   },
   "source": [
    "## **Data Preprocessing: Removing outliers**"
   ]
  },
  {
   "cell_type": "markdown",
   "id": "873e869f",
   "metadata": {
    "papermill": {
     "duration": 0.016427,
     "end_time": "2023-04-16T13:49:44.064630",
     "exception": false,
     "start_time": "2023-04-16T13:49:44.048203",
     "status": "completed"
    },
    "tags": []
   },
   "source": [
    "### **To remove the outliers we use DBSCAN (Density-Based Spatial Clustering of Applications with Noise) algorithm.**\n",
    "\n",
    "#### **The algorithm works by defining a neighborhood around each data point and then grouping together points that have a minimum number of neighbors within a specified distance. Points that do not have enough neighbors are considered outliers or noise.**"
   ]
  },
  {
   "cell_type": "markdown",
   "id": "6b48fd1f",
   "metadata": {
    "papermill": {
     "duration": 0.017108,
     "end_time": "2023-04-16T13:49:44.098928",
     "exception": false,
     "start_time": "2023-04-16T13:49:44.081820",
     "status": "completed"
    },
    "tags": []
   },
   "source": [
    "#### **This algo has two parameters, nin_samples and epsilon, if we fix min_samples, we can draw a plot which shows the sorted distances to the k-th nearest neighbor for each point in the dataset.**\n",
    "\n",
    "#### **From there we can fix the value of epsilon.**"
   ]
  },
  {
   "cell_type": "code",
   "execution_count": 14,
   "id": "7d507ed3",
   "metadata": {
    "execution": {
     "iopub.execute_input": "2023-04-16T13:49:44.136856Z",
     "iopub.status.busy": "2023-04-16T13:49:44.136425Z",
     "iopub.status.idle": "2023-04-16T13:49:44.412828Z",
     "shell.execute_reply": "2023-04-16T13:49:44.410882Z"
    },
    "papermill": {
     "duration": 0.298729,
     "end_time": "2023-04-16T13:49:44.416159",
     "exception": false,
     "start_time": "2023-04-16T13:49:44.117430",
     "status": "completed"
    },
    "tags": []
   },
   "outputs": [
    {
     "data": {
      "image/png": "[encoded data removed]",
      "text/plain": [
       "<Figure size 640x480 with 1 Axes>"
      ]
     },
     "metadata": {},
     "output_type": "display_data"
    }
   ],
   "source": [
    "min_samples = 4  # Adjust this value according to your dataset\n",
    "k = min_samples - 1\n",
    "nearest_neighbors = NearestNeighbors(n_neighbors=k)\n",
    "nearest_neighbors.fit(train_df)\n",
    "\n",
    "distances, _ = nearest_neighbors.kneighbors(train_df)\n",
    "distances = np.sort(distances, axis=0)\n",
    "distances = distances[:, -1]\n",
    "\n",
    "plt.plot(distances)\n",
    "plt.xlabel('Points sorted by distance to the k-th nearest neighbor')\n",
    "plt.ylabel(f'{k}-th nearest neighbor distance')\n",
    "plt.show()\n"
   ]
  },
  {
   "cell_type": "markdown",
   "id": "74ea97fd",
   "metadata": {
    "papermill": {
     "duration": 0.017925,
     "end_time": "2023-04-16T13:49:44.452318",
     "exception": false,
     "start_time": "2023-04-16T13:49:44.434393",
     "status": "completed"
    },
    "tags": []
   },
   "source": [
    "#### **Now, in the above plot at approximately 3rd nearest neighbor distance of 7 the plot start increasing drastically.**\n",
    "\n",
    "#### **So, epsilon = 7**"
   ]
  },
  {
   "cell_type": "markdown",
   "id": "4f6e6759",
   "metadata": {
    "papermill": {
     "duration": 0.018212,
     "end_time": "2023-04-16T13:49:44.488230",
     "exception": false,
     "start_time": "2023-04-16T13:49:44.470018",
     "status": "completed"
    },
    "tags": []
   },
   "source": [
    "#### **So, we apply DBSCAN**"
   ]
  },
  {
   "cell_type": "code",
   "execution_count": 15,
   "id": "4355a00e",
   "metadata": {
    "execution": {
     "iopub.execute_input": "2023-04-16T13:49:44.526711Z",
     "iopub.status.busy": "2023-04-16T13:49:44.526288Z",
     "iopub.status.idle": "2023-04-16T13:49:44.563972Z",
     "shell.execute_reply": "2023-04-16T13:49:44.562357Z"
    },
    "papermill": {
     "duration": 0.061565,
     "end_time": "2023-04-16T13:49:44.567921",
     "exception": false,
     "start_time": "2023-04-16T13:49:44.506356",
     "status": "completed"
    },
    "tags": []
   },
   "outputs": [
    {
     "name": "stdout",
     "output_type": "stream",
     "text": [
      "Outliers detected by DBSCAN: 25\n"
     ]
    },
    {
     "data": {
      "text/plain": [
       "(661, 31)"
      ]
     },
     "execution_count": 15,
     "metadata": {},
     "output_type": "execute_result"
    }
   ],
   "source": [
    "# Apply DBSCAN on the original unscaled training data\n",
    "epsilon =  7 # This is a hyperparameter you may need to tune\n",
    "min_samples = 4  # This is another hyperparameter you may need to tune\n",
    "dbscan = DBSCAN(eps=epsilon, min_samples=min_samples)\n",
    "labels = dbscan.fit_predict(train_df)\n",
    "\n",
    "# Identify the outliers\n",
    "outliers = labels == -1\n",
    "print(f\"Outliers detected by DBSCAN: {outliers.sum()}\")\n",
    "\n",
    "# Remove or handle the outliers\n",
    "# To remove the outliers:\n",
    "train_df_no_outliers = train_df.loc[~outliers]\n",
    "\n",
    "train_df_no_outliers.shape"
   ]
  },
  {
   "cell_type": "markdown",
   "id": "49d3bc6e",
   "metadata": {
    "papermill": {
     "duration": 0.030754,
     "end_time": "2023-04-16T13:49:44.629092",
     "exception": false,
     "start_time": "2023-04-16T13:49:44.598338",
     "status": "completed"
    },
    "tags": []
   },
   "source": [
    "### **Just to check if outliers are removed properly, we make a scatter plot of two components chosen by PCA.**\n",
    "\n",
    "#### **The orange color dots are the outliers and blue color is of normal data.**"
   ]
  },
  {
   "cell_type": "code",
   "execution_count": 16,
   "id": "0ab06bf2",
   "metadata": {
    "execution": {
     "iopub.execute_input": "2023-04-16T13:49:44.680704Z",
     "iopub.status.busy": "2023-04-16T13:49:44.680291Z",
     "iopub.status.idle": "2023-04-16T13:49:45.103448Z",
     "shell.execute_reply": "2023-04-16T13:49:45.102092Z"
    },
    "papermill": {
     "duration": 0.445687,
     "end_time": "2023-04-16T13:49:45.106174",
     "exception": false,
     "start_time": "2023-04-16T13:49:44.660487",
     "status": "completed"
    },
    "tags": []
   },
   "outputs": [
    {
     "data": {
      "text/plain": [
       "<AxesSubplot:xlabel='PC1', ylabel='PC2'>"
      ]
     },
     "execution_count": 16,
     "metadata": {},
     "output_type": "execute_result"
    },
    {
     "data": {
      "image/png": "[encoded data removed]",
      "text/plain": [
       "<Figure size 640x480 with 1 Axes>"
      ]
     },
     "metadata": {},
     "output_type": "display_data"
    }
   ],
   "source": [
    "# Create DataFrames for normal data points and outliers\n",
    "normal_data = train_df.loc[~outliers].copy()  # Add .copy() to avoid SettingWithCopyWarning\n",
    "outlier_data = train_df.loc[outliers].copy()  # Add .copy() to avoid SettingWithCopyWarning\n",
    "\n",
    "# Add a new column called 'outlier' to both DataFrames\n",
    "normal_data['outlier'] = 0\n",
    "outlier_data['outlier'] = 1\n",
    "\n",
    "# Combine the DataFrames\n",
    "combined_data = pd.concat([normal_data, outlier_data], axis=0)\n",
    "\n",
    "# Perform PCA on the combined dataset\n",
    "pca = PCA(n_components=2)\n",
    "reduced_data = pca.fit_transform(combined_data.iloc[:, :-1])\n",
    "\n",
    "# Create a new DataFrame with the first two principal components\n",
    "reduced_df = pd.DataFrame(reduced_data, columns=['PC1', 'PC2'])\n",
    "reduced_df['outlier'] = combined_data['outlier'].values\n",
    "\n",
    "# Create a scatter plot\n",
    "sns.scatterplot(x='PC1', y='PC2', hue='outlier', data=reduced_df, alpha=0.6)\n"
   ]
  },
  {
   "cell_type": "markdown",
   "id": "b38cf79a",
   "metadata": {
    "papermill": {
     "duration": 0.022738,
     "end_time": "2023-04-16T13:49:45.147768",
     "exception": false,
     "start_time": "2023-04-16T13:49:45.125030",
     "status": "completed"
    },
    "tags": []
   },
   "source": [
    "#### **From the above plot we can see that most of the outliers are removed successfully by the DBSCAM**"
   ]
  },
  {
   "cell_type": "markdown",
   "id": "7ac9b9c8",
   "metadata": {
    "papermill": {
     "duration": 0.018667,
     "end_time": "2023-04-16T13:49:45.185547",
     "exception": false,
     "start_time": "2023-04-16T13:49:45.166880",
     "status": "completed"
    },
    "tags": []
   },
   "source": [
    "## **Data Preprocessing: Scaling the data**"
   ]
  },
  {
   "cell_type": "markdown",
   "id": "5a2f5cd7",
   "metadata": {
    "papermill": {
     "duration": 0.019201,
     "end_time": "2023-04-16T13:49:45.222705",
     "exception": false,
     "start_time": "2023-04-16T13:49:45.203504",
     "status": "completed"
    },
    "tags": []
   },
   "source": [
    "#### **We use RobustScaler to scale the train data, and use the same model for the test data as well**"
   ]
  },
  {
   "cell_type": "code",
   "execution_count": 17,
   "id": "848429e1",
   "metadata": {
    "execution": {
     "iopub.execute_input": "2023-04-16T13:49:45.264659Z",
     "iopub.status.busy": "2023-04-16T13:49:45.264064Z",
     "iopub.status.idle": "2023-04-16T13:49:45.302409Z",
     "shell.execute_reply": "2023-04-16T13:49:45.300734Z"
    },
    "papermill": {
     "duration": 0.062385,
     "end_time": "2023-04-16T13:49:45.305099",
     "exception": false,
     "start_time": "2023-04-16T13:49:45.242714",
     "status": "completed"
    },
    "tags": []
   },
   "outputs": [
    {
     "name": "stdout",
     "output_type": "stream",
     "text": [
      "(661, 31)\n",
      "(172, 31)\n",
      "Index(['Age', 'Number of sexual partners', 'First sexual intercourse',\n",
      "       'Num of pregnancies', 'Smokes', 'Smokes (years)', 'Smokes (packs/year)',\n",
      "       'Hormonal Contraceptives', 'Hormonal Contraceptives (years)', 'IUD',\n",
      "       'IUD (years)', 'STDs', 'STDs (number)', 'STDs:condylomatosis',\n",
      "       'STDs:cervical condylomatosis', 'STDs:vaginal condylomatosis',\n",
      "       'STDs:vulvo-perineal condylomatosis', 'STDs:syphilis',\n",
      "       'STDs:pelvic inflammatory disease', 'STDs:genital herpes',\n",
      "       'STDs:molluscum contagiosum', 'STDs:AIDS', 'STDs:HIV',\n",
      "       'STDs:Hepatitis B', 'STDs:HPV', 'STDs: Number of diagnosis',\n",
      "       'Dx:Cancer', 'Dx:CIN', 'Dx:HPV', 'Dx', 'Hinselmann'],\n",
      "      dtype='object')\n"
     ]
    }
   ],
   "source": [
    "# Initialize the RobustScaler\n",
    "scaler = RobustScaler()\n",
    "\n",
    "# Fit the RobustScaler to the training data (train_df_no_outliers)\n",
    "scaler.fit(train_df_no_outliers)\n",
    "\n",
    "# Transform the training data\n",
    "train_scaled = scaler.fit_transform(train_df_no_outliers)\n",
    "\n",
    "# Transform the test data using the same scaler\n",
    "test_scaled = scaler.transform(test_df)\n",
    "\n",
    "# Convert the scaled data to DataFrames\n",
    "train_scaled_df = pd.DataFrame(train_scaled, columns=train_df_no_outliers.columns)\n",
    "test_scaled_df = pd.DataFrame(test_scaled, columns=test_df.columns)\n",
    "\n",
    "print(train_scaled_df.shape)\n",
    "\n",
    "print(test_scaled_df.shape)\n",
    "\n",
    "print(train_scaled_df.columns)"
   ]
  },
  {
   "cell_type": "markdown",
   "id": "0d73c645",
   "metadata": {
    "papermill": {
     "duration": 0.0189,
     "end_time": "2023-04-16T13:49:45.345379",
     "exception": false,
     "start_time": "2023-04-16T13:49:45.326479",
     "status": "completed"
    },
    "tags": []
   },
   "source": [
    "### **Now we draw a boxplot for the scaled features for better visualisation**"
   ]
  },
  {
   "cell_type": "code",
   "execution_count": 18,
   "id": "9e8a5928",
   "metadata": {
    "execution": {
     "iopub.execute_input": "2023-04-16T13:49:45.385379Z",
     "iopub.status.busy": "2023-04-16T13:49:45.384804Z",
     "iopub.status.idle": "2023-04-16T13:49:46.183959Z",
     "shell.execute_reply": "2023-04-16T13:49:46.182553Z"
    },
    "papermill": {
     "duration": 0.822746,
     "end_time": "2023-04-16T13:49:46.187834",
     "exception": false,
     "start_time": "2023-04-16T13:49:45.365088",
     "status": "completed"
    },
    "tags": []
   },
   "outputs": [
    {
     "data": {
      "image/png": "[encoded data removed]",
      "text/plain": [
       "<Figure size 1200x800 with 1 Axes>"
      ]
     },
     "metadata": {},
     "output_type": "display_data"
    }
   ],
   "source": [
    "plt.figure(figsize=(12, 8))\n",
    "sns.boxplot(data=train_scaled_df)\n",
    "plt.xticks(rotation=90)\n",
    "plt.title(\"Boxplot of Scaled Features in Training Data\")\n",
    "plt.show()"
   ]
  },
  {
   "cell_type": "markdown",
   "id": "82fc8fa0",
   "metadata": {
    "papermill": {
     "duration": 0.019244,
     "end_time": "2023-04-16T13:49:46.226830",
     "exception": false,
     "start_time": "2023-04-16T13:49:46.207586",
     "status": "completed"
    },
    "tags": []
   },
   "source": [
    "#### **As, there are not many point too out of the dataset, the outliers have been removed perfectly**"
   ]
  },
  {
   "cell_type": "markdown",
   "id": "19af0d16",
   "metadata": {
    "papermill": {
     "duration": 0.01946,
     "end_time": "2023-04-16T13:49:46.265857",
     "exception": false,
     "start_time": "2023-04-16T13:49:46.246397",
     "status": "completed"
    },
    "tags": []
   },
   "source": [
    "## **Feature Extraction: Identifying useful features and removing redundant ones**"
   ]
  },
  {
   "cell_type": "markdown",
   "id": "e216eddd",
   "metadata": {
    "papermill": {
     "duration": 0.020858,
     "end_time": "2023-04-16T13:49:46.308142",
     "exception": false,
     "start_time": "2023-04-16T13:49:46.287284",
     "status": "completed"
    },
    "tags": []
   },
   "source": [
    "#### **First we make a correlation matrix to find if any numerical features are correlated**"
   ]
  },
  {
   "cell_type": "code",
   "execution_count": 19,
   "id": "0dbfda3b",
   "metadata": {
    "execution": {
     "iopub.execute_input": "2023-04-16T13:49:46.351227Z",
     "iopub.status.busy": "2023-04-16T13:49:46.350077Z",
     "iopub.status.idle": "2023-04-16T13:49:47.527383Z",
     "shell.execute_reply": "2023-04-16T13:49:47.526068Z"
    },
    "papermill": {
     "duration": 1.203243,
     "end_time": "2023-04-16T13:49:47.531161",
     "exception": false,
     "start_time": "2023-04-16T13:49:46.327918",
     "status": "completed"
    },
    "tags": []
   },
   "outputs": [
    {
     "data": {
      "image/png": "[encoded data removed]",
      "text/plain": [
       "<Figure size 1200x800 with 2 Axes>"
      ]
     },
     "metadata": {},
     "output_type": "display_data"
    }
   ],
   "source": [
    "# Compute correlation matrix\n",
    "correlation_matrix = train_scaled_df.corr()\n",
    "\n",
    "# Visualize the correlation matrix using a heatmap\n",
    "plt.figure(figsize=(12, 8))\n",
    "sns.heatmap(correlation_matrix, cmap=\"coolwarm\")\n",
    "plt.show()\n"
   ]
  },
  {
   "cell_type": "markdown",
   "id": "ada017ca",
   "metadata": {
    "papermill": {
     "duration": 0.022486,
     "end_time": "2023-04-16T13:49:47.576432",
     "exception": false,
     "start_time": "2023-04-16T13:49:47.553946",
     "status": "completed"
    },
    "tags": []
   },
   "source": [
    "### **The features which are more red are highly correlated, so one of them is redundant**"
   ]
  },
  {
   "cell_type": "markdown",
   "id": "ea294439",
   "metadata": {
    "papermill": {
     "duration": 0.02238,
     "end_time": "2023-04-16T13:49:47.621506",
     "exception": false,
     "start_time": "2023-04-16T13:49:47.599126",
     "status": "completed"
    },
    "tags": []
   },
   "source": [
    "#### **We keep a threshold of correlation coefficient = 0.8 for removing redundant features**\n",
    "\n",
    "##### **To decide which one of the two should be removed, we use the average correlation of each feature with all other features as the criteria and remove the feature with the higher average correlation**"
   ]
  },
  {
   "cell_type": "code",
   "execution_count": 20,
   "id": "b348da52",
   "metadata": {
    "execution": {
     "iopub.execute_input": "2023-04-16T13:49:47.668955Z",
     "iopub.status.busy": "2023-04-16T13:49:47.668518Z",
     "iopub.status.idle": "2023-04-16T13:49:47.694231Z",
     "shell.execute_reply": "2023-04-16T13:49:47.692836Z"
    },
    "papermill": {
     "duration": 0.052956,
     "end_time": "2023-04-16T13:49:47.696963",
     "exception": false,
     "start_time": "2023-04-16T13:49:47.644007",
     "status": "completed"
    },
    "tags": []
   },
   "outputs": [
    {
     "name": "stdout",
     "output_type": "stream",
     "text": [
      "Removed features: ['Dx:Cancer', 'IUD', 'STDs', 'STDs (number)', 'STDs:condylomatosis']\n",
      "(661, 26)\n",
      "(172, 31)\n",
      "Index(['Age', 'Number of sexual partners', 'First sexual intercourse',\n",
      "       'Num of pregnancies', 'Smokes', 'Smokes (years)', 'Smokes (packs/year)',\n",
      "       'Hormonal Contraceptives', 'Hormonal Contraceptives (years)',\n",
      "       'IUD (years)', 'STDs:cervical condylomatosis',\n",
      "       'STDs:vaginal condylomatosis', 'STDs:vulvo-perineal condylomatosis',\n",
      "       'STDs:syphilis', 'STDs:pelvic inflammatory disease',\n",
      "       'STDs:genital herpes', 'STDs:molluscum contagiosum', 'STDs:AIDS',\n",
      "       'STDs:HIV', 'STDs:Hepatitis B', 'STDs:HPV', 'STDs: Number of diagnosis',\n",
      "       'Dx:CIN', 'Dx:HPV', 'Dx', 'Hinselmann'],\n",
      "      dtype='object')\n"
     ]
    }
   ],
   "source": [
    "def remove_redundant_features(df, threshold=0.8):\n",
    "    corr_matrix = df.corr().abs()\n",
    "    upper_tri = corr_matrix.where(np.triu(np.ones(corr_matrix.shape), k=1).astype(bool))\n",
    "\n",
    "    to_drop = set()\n",
    "\n",
    "    for i, row in enumerate(upper_tri.index):\n",
    "        for j, col in enumerate(upper_tri.columns):\n",
    "            if upper_tri.at[row, col] > threshold:\n",
    "                if corr_matrix[row].mean() > corr_matrix[col].mean():\n",
    "                    to_drop.add(row)\n",
    "                else:\n",
    "                    to_drop.add(col)\n",
    "\n",
    "    df_reduced = df.drop(to_drop, axis=1)\n",
    "    \n",
    "    return df_reduced, list(to_drop)\n",
    "\n",
    "new_df_reduced, removed_features = remove_redundant_features(train_scaled_df, threshold=0.8)\n",
    "\n",
    "# Print the removed features\n",
    "print(\"Removed features:\", removed_features)\n",
    "print(new_df_reduced.shape)\n",
    "print(test_df.shape)\n",
    "print(new_df_reduced.columns)"
   ]
  },
  {
   "cell_type": "markdown",
   "id": "8469c795",
   "metadata": {
    "papermill": {
     "duration": 0.022625,
     "end_time": "2023-04-16T13:49:47.743613",
     "exception": false,
     "start_time": "2023-04-16T13:49:47.720988",
     "status": "completed"
    },
    "tags": []
   },
   "source": [
    "#### **The 'STDs:condylomatosis', 'Dx:Cancer', 'STDs (number)', 'STDs', 'IUD' columns have been dropped for the training dataset, so we drop them from the test dataset too to make them equal**"
   ]
  },
  {
   "cell_type": "code",
   "execution_count": 21,
   "id": "10ef4ec4",
   "metadata": {
    "execution": {
     "iopub.execute_input": "2023-04-16T13:49:47.793263Z",
     "iopub.status.busy": "2023-04-16T13:49:47.792331Z",
     "iopub.status.idle": "2023-04-16T13:49:47.802160Z",
     "shell.execute_reply": "2023-04-16T13:49:47.800600Z"
    },
    "papermill": {
     "duration": 0.037922,
     "end_time": "2023-04-16T13:49:47.805218",
     "exception": false,
     "start_time": "2023-04-16T13:49:47.767296",
     "status": "completed"
    },
    "tags": []
   },
   "outputs": [
    {
     "data": {
      "text/plain": [
       "(172, 26)"
      ]
     },
     "execution_count": 21,
     "metadata": {},
     "output_type": "execute_result"
    }
   ],
   "source": [
    "test_df = test_df.drop(['STDs:condylomatosis', 'Dx:Cancer', 'IUD', 'STDs (number)', 'STDs'],axis=1)\n",
    "test_df.shape"
   ]
  },
  {
   "cell_type": "markdown",
   "id": "ab71a76b",
   "metadata": {
    "papermill": {
     "duration": 0.02827,
     "end_time": "2023-04-16T13:49:47.858552",
     "exception": false,
     "start_time": "2023-04-16T13:49:47.830282",
     "status": "completed"
    },
    "tags": []
   },
   "source": [
    "### **Applying PCA to extract principle components**"
   ]
  },
  {
   "cell_type": "code",
   "execution_count": 22,
   "id": "8c62917c",
   "metadata": {
    "execution": {
     "iopub.execute_input": "2023-04-16T13:49:47.921051Z",
     "iopub.status.busy": "2023-04-16T13:49:47.919761Z",
     "iopub.status.idle": "2023-04-16T13:49:47.955675Z",
     "shell.execute_reply": "2023-04-16T13:49:47.954220Z"
    },
    "papermill": {
     "duration": 0.072964,
     "end_time": "2023-04-16T13:49:47.959956",
     "exception": false,
     "start_time": "2023-04-16T13:49:47.886992",
     "status": "completed"
    },
    "tags": []
   },
   "outputs": [
    {
     "name": "stdout",
     "output_type": "stream",
     "text": [
      "(661, 20)\n",
      "(172, 20)\n",
      "Index(['PC1', 'PC2', 'PC3', 'PC4', 'PC5', 'PC6', 'PC7', 'PC8', 'PC9', 'PC10',\n",
      "       'PC11', 'PC12', 'PC13', 'PC14', 'PC15', 'PC16', 'PC17', 'PC18', 'PC19',\n",
      "       'PC20'],\n",
      "      dtype='object')\n"
     ]
    }
   ],
   "source": [
    "# Remove the target variable from the training dataset\n",
    "train_df_features = new_df_reduced.drop(columns=['Hinselmann'])\n",
    "\n",
    "# Remove the target variable from the test dataset\n",
    "test_df_features = test_df.drop(columns=['Hinselmann'])\n",
    "\n",
    "# Initialize PCA\n",
    "pca = PCA(n_components=20)\n",
    "\n",
    "# Fit PCA on the training data\n",
    "pca.fit(train_df_features)\n",
    "\n",
    "# Transform the training data using the PCA model\n",
    "train_pca_transformed = pca.transform(train_df_features)\n",
    "\n",
    "# Transform the test data using the same PCA model\n",
    "test_pca_transformed = pca.transform(test_df_features)\n",
    "\n",
    "# Convert the transformed data to DataFrames\n",
    "train_pca_df = pd.DataFrame(train_pca_transformed, columns=[f'PC{i+1}' for i in range(pca.n_components_)])\n",
    "test_pca_df = pd.DataFrame(test_pca_transformed, columns=[f'PC{i+1}' for i in range(pca.n_components_)])\n",
    "print(train_pca_df.shape)\n",
    "print(test_pca_df.shape)\n",
    "print(train_pca_df.columns)\n"
   ]
  },
  {
   "cell_type": "markdown",
   "id": "e8b25df5",
   "metadata": {
    "papermill": {
     "duration": 0.038411,
     "end_time": "2023-04-16T13:49:48.041921",
     "exception": false,
     "start_time": "2023-04-16T13:49:48.003510",
     "status": "completed"
    },
    "tags": []
   },
   "source": [
    "### **Using SMOTE to balance the data**"
   ]
  },
  {
   "cell_type": "markdown",
   "id": "288c1a62",
   "metadata": {
    "papermill": {
     "duration": 0.022428,
     "end_time": "2023-04-16T13:49:48.094102",
     "exception": false,
     "start_time": "2023-04-16T13:49:48.071674",
     "status": "completed"
    },
    "tags": []
   },
   "source": [
    "#### **We have encoded the data as well**"
   ]
  },
  {
   "cell_type": "code",
   "execution_count": 23,
   "id": "085f9494",
   "metadata": {
    "execution": {
     "iopub.execute_input": "2023-04-16T13:49:48.141931Z",
     "iopub.status.busy": "2023-04-16T13:49:48.141519Z",
     "iopub.status.idle": "2023-04-16T13:49:48.161840Z",
     "shell.execute_reply": "2023-04-16T13:49:48.160488Z"
    },
    "papermill": {
     "duration": 0.048281,
     "end_time": "2023-04-16T13:49:48.164945",
     "exception": false,
     "start_time": "2023-04-16T13:49:48.116664",
     "status": "completed"
    },
    "tags": []
   },
   "outputs": [],
   "source": [
    "# Extract the target variable from the original training dataset\n",
    "train_target = train_df_no_outliers['Hinselmann']\n",
    "\n",
    "# Encode the target variable\n",
    "le = LabelEncoder()\n",
    "train_y_encoded = le.fit_transform(train_target)\n",
    "\n",
    "# Initialize SMOTE\n",
    "smote = SMOTE()\n",
    "\n",
    "# Apply SMOTE on the training data with PCA applied\n",
    "train_pca_balanced, train_y_balanced = smote.fit_resample(train_pca_df, train_y_encoded)\n",
    "\n",
    "# Convert the target variable back to the original labels\n",
    "train_y_balanced = le.inverse_transform(train_y_balanced)\n"
   ]
  },
  {
   "cell_type": "markdown",
   "id": "64370e98",
   "metadata": {
    "papermill": {
     "duration": 0.022925,
     "end_time": "2023-04-16T13:49:48.210406",
     "exception": false,
     "start_time": "2023-04-16T13:49:48.187481",
     "status": "completed"
    },
    "tags": []
   },
   "source": [
    "### **For visualisation, we draw a histogram of balanced classes of our target variable**"
   ]
  },
  {
   "cell_type": "code",
   "execution_count": 24,
   "id": "50f2ee53",
   "metadata": {
    "execution": {
     "iopub.execute_input": "2023-04-16T13:49:48.259501Z",
     "iopub.status.busy": "2023-04-16T13:49:48.257383Z",
     "iopub.status.idle": "2023-04-16T13:49:48.571324Z",
     "shell.execute_reply": "2023-04-16T13:49:48.569548Z"
    },
    "papermill": {
     "duration": 0.341974,
     "end_time": "2023-04-16T13:49:48.575174",
     "exception": false,
     "start_time": "2023-04-16T13:49:48.233200",
     "status": "completed"
    },
    "tags": []
   },
   "outputs": [
    {
     "data": {
      "image/png": "[encoded data removed]",
      "text/plain": [
       "<Figure size 1200x800 with 1 Axes>"
      ]
     },
     "metadata": {},
     "output_type": "display_data"
    }
   ],
   "source": [
    "# Convert the target variable to a DataFrame\n",
    "train_y_balanced_df = pd.DataFrame(train_y_balanced, columns=['Hinselmann'])\n",
    "\n",
    "# Create a histogram of the balanced classes\n",
    "plt.figure(figsize=(12, 8))\n",
    "sns.histplot(data=train_y_balanced_df, x='Hinselmann', bins=30, kde=False)\n",
    "plt.xlabel('Hinselmann')\n",
    "plt.ylabel('Count')\n",
    "plt.title('Histogram of Balanced Classes')\n",
    "plt.show()\n"
   ]
  },
  {
   "cell_type": "markdown",
   "id": "162dc51d",
   "metadata": {
    "papermill": {
     "duration": 0.022654,
     "end_time": "2023-04-16T13:49:48.621045",
     "exception": false,
     "start_time": "2023-04-16T13:49:48.598391",
     "status": "completed"
    },
    "tags": []
   },
   "source": [
    "## **Finally, training and evaluating the model by SVM and KNN**"
   ]
  },
  {
   "cell_type": "markdown",
   "id": "c5bf921b",
   "metadata": {
    "papermill": {
     "duration": 0.022713,
     "end_time": "2023-04-16T13:49:48.666908",
     "exception": false,
     "start_time": "2023-04-16T13:49:48.644195",
     "status": "completed"
    },
    "tags": []
   },
   "source": [
    "#### **We use GridSearchCV to find the best hyperparameters**\n",
    "\n",
    "#### **We also plot the confusion matrices and find out Accuracy, Presicion and Recall for each target variable**"
   ]
  },
  {
   "cell_type": "code",
   "execution_count": 25,
   "id": "6dbd3323",
   "metadata": {
    "execution": {
     "iopub.execute_input": "2023-04-16T13:49:48.715550Z",
     "iopub.status.busy": "2023-04-16T13:49:48.715065Z",
     "iopub.status.idle": "2023-04-16T13:49:50.813709Z",
     "shell.execute_reply": "2023-04-16T13:49:50.812637Z"
    },
    "papermill": {
     "duration": 2.126659,
     "end_time": "2023-04-16T13:49:50.816667",
     "exception": false,
     "start_time": "2023-04-16T13:49:48.690008",
     "status": "completed"
    },
    "tags": []
   },
   "outputs": [
    {
     "name": "stdout",
     "output_type": "stream",
     "text": [
      "SVM Evaluation Metrics\n",
      "Accuracy: 95.35%\n",
      "Precision: 90.91%\n",
      "Recall: 95.35%\n",
      "\n",
      "\n",
      "KNN Evaluation Metrics\n",
      "Accuracy: 95.35%\n",
      "Precision: 90.91%\n",
      "Recall: 95.35%\n"
     ]
    },
    {
     "data": {
      "image/png": "[encoded data removed]",
      "text/plain": [
       "<Figure size 1200x600 with 4 Axes>"
      ]
     },
     "metadata": {},
     "output_type": "display_data"
    }
   ],
   "source": [
    "# Create a validation split from the training data\n",
    "X_train, X_val, y_train, y_val = train_test_split(train_pca_balanced, train_y_balanced, test_size=0.2, random_state=42)\n",
    "\n",
    "# Perform hyperparameter tuning for SVM and KNN using grid search and cross-validation\n",
    "svm_params = {'C': [0.1, 1, 10, 100]}\n",
    "knn_params = {'n_neighbors': [3, 5, 7, 9, 11]}\n",
    "\n",
    "svm_grid = GridSearchCV(SVC(), svm_params, cv=5)\n",
    "knn_grid = GridSearchCV(KNeighborsClassifier(), knn_params, cv=5)\n",
    "\n",
    "svm_grid.fit(X_train, y_train)\n",
    "knn_grid.fit(X_train, y_train)\n",
    "\n",
    "# Train the classifiers with the best hyperparameters\n",
    "best_svm = svm_grid.best_estimator_\n",
    "best_knn = knn_grid.best_estimator_\n",
    "\n",
    "# Evaluate the classifiers on the test dataset\n",
    "y_pred_svm = best_svm.predict(test_pca_df)\n",
    "y_pred_knn = best_knn.predict(test_pca_df)\n",
    "\n",
    "test_y_encoded = le.transform(test_df['Hinselmann'])\n",
    "\n",
    "print(\"SVM Evaluation Metrics\")\n",
    "print(\"Accuracy: {:.2f}%\".format(accuracy_score(test_y_encoded, y_pred_svm) * 100))\n",
    "print(\"Precision: {:.2f}%\".format(precision_score(test_y_encoded, y_pred_svm, average='weighted', zero_division=0) * 100))\n",
    "print(\"Recall: {:.2f}%\".format(recall_score(test_y_encoded, y_pred_svm, average='weighted') * 100))\n",
    "print(\"\\n\")\n",
    "print(\"KNN Evaluation Metrics\")\n",
    "print(\"Accuracy: {:.2f}%\".format(accuracy_score(test_y_encoded, y_pred_knn) * 100))\n",
    "print(\"Precision: {:.2f}%\".format(precision_score(test_y_encoded, y_pred_knn, average='weighted', zero_division=0) * 100))\n",
    "print(\"Recall: {:.2f}%\".format(recall_score(test_y_encoded, y_pred_knn, average='weighted') * 100))\n",
    "\n",
    "# Plot the confusion matrix for each target variable\n",
    "conf_matrix_svm = confusion_matrix(test_y_encoded, y_pred_svm)\n",
    "conf_matrix_knn = confusion_matrix(test_y_encoded, y_pred_knn)\n",
    "\n",
    "fig, ax = plt.subplots(1, 2, figsize=(12, 6))\n",
    "\n",
    "sns.heatmap(conf_matrix_svm, annot=True, cmap=\"Blues\", ax=ax[0], fmt='g')\n",
    "ax[0].set_title(\"SVM Confusion Matrix\")\n",
    "ax[0].set_xlabel(\"Predicted label\")\n",
    "ax[0].set_ylabel(\"True label\")\n",
    "\n",
    "sns.heatmap(conf_matrix_knn, annot=True, cmap=\"Blues\", ax=ax[1], fmt='g')\n",
    "ax[1].set_title(\"KNN Confusion Matrix\")\n",
    "ax[1].set_xlabel(\"Predicted label\")\n",
    "ax[1].set_ylabel(\"True label\")\n",
    "\n",
    "plt.show()\n"
   ]
  },
  {
   "cell_type": "markdown",
   "id": "8de26def",
   "metadata": {
    "papermill": {
     "duration": 0.023936,
     "end_time": "2023-04-16T13:49:50.865172",
     "exception": false,
     "start_time": "2023-04-16T13:49:50.841236",
     "status": "completed"
    },
    "tags": []
   },
   "source": [
    "## **Now, repeat the above steps accordingly for other target variables as well**"
   ]
  },
  {
   "cell_type": "markdown",
   "id": "4bf3133c",
   "metadata": {
    "papermill": {
     "duration": 0.023446,
     "end_time": "2023-04-16T13:49:50.912953",
     "exception": false,
     "start_time": "2023-04-16T13:49:50.889507",
     "status": "completed"
    },
    "tags": []
   },
   "source": [
    "# **Target Variable: Schiller**"
   ]
  }
 ],
 "metadata": {
  "kernelspec": {
   "display_name": "Python 3",
   "language": "python",
   "name": "python3"
  },
  "language_info": {
   "codemirror_mode": {
    "name": "ipython",
    "version": 3
   },
   "file_extension": ".py",
   "mimetype": "text/x-python",
   "name": "python",
   "nbconvert_exporter": "python",
   "pygments_lexer": "ipython3",
   "version": "3.7.12"
  },
  "papermill": {
   "default_parameters": {},
   "duration": 24.356294,
   "end_time": "2023-04-16T13:49:51.861885",
   "environment_variables": {},
   "exception": null,
   "input_path": "__notebook__.ipynb",
   "output_path": "__notebook__.ipynb",
   "parameters": {},
   "start_time": "2023-04-16T13:49:27.505591",
   "version": "2.4.0"
  }
 },
 "nbformat": 4,
 "nbformat_minor": 5
}
